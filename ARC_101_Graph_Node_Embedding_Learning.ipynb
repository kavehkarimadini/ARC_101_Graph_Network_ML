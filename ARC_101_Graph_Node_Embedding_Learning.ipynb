{
 "cells": [
  {
   "cell_type": "markdown",
   "metadata": {
    "id": "XuXWJLEm2UWS"
   },
   "source": [
    "# **COMP8221 - Week 6**\n",
    "\n",
    "In this workshop, we will introduce two packages, [NetworkX](https://networkx.org/documentation/stable/) and [PyTorch Geometric](https://pytorch-geometric.readthedocs.io/en/latest/).\n",
    "\n",
    "For the PyTorch Geometric section, you don't need to understand all the details already. Concepts and implementations of graph neural network will be covered in future lectures and workshops."
   ]
  },
  {
   "cell_type": "markdown",
   "metadata": {
    "id": "8gzsP50bF6Gb"
   },
   "source": [
    "\n",
    "# NetworkX Tutorial\n",
    "\n",
    "NetworkX is one of the most frequently used Python packages to create, manipulate, and mine graphs.\n",
    "\n",
    "Main parts of this tutorial are adapted from https://colab.research.google.com/github/jdwittenauer/ipython-notebooks/blob/master/notebooks/libraries/NetworkX.ipynb#scrollTo=zA1OO6huHeV6"
   ]
  },
  {
   "cell_type": "markdown",
   "metadata": {
    "id": "Nwwq0nSdmsOL"
   },
   "source": [
    "## Setup"
   ]
  },
  {
   "cell_type": "code",
   "execution_count": 1,
   "metadata": {
    "colab": {
     "base_uri": "https://localhost:8080/"
    },
    "id": "7p2pHdwnsu7-",
    "outputId": "f3a62f0c-ce1a-426f-8207-2f381e91c5d5"
   },
   "outputs": [
    {
     "name": "stdout",
     "output_type": "stream",
     "text": [
      "^C\n"
     ]
    },
    {
     "name": "stderr",
     "output_type": "stream",
     "text": [
      "WARNING: Retrying (Retry(total=4, connect=None, read=None, redirect=None, status=None)) after connection broken by 'NewConnectionError('<pip._vendor.urllib3.connection.HTTPSConnection object at 0x000002685FC61AC0>: Failed to establish a new connection: [Errno 11001] getaddrinfo failed')': /simple/scipy/\n",
      "WARNING: Retrying (Retry(total=3, connect=None, read=None, redirect=None, status=None)) after connection broken by 'NewConnectionError('<pip._vendor.urllib3.connection.HTTPSConnection object at 0x000002685FECE390>: Failed to establish a new connection: [Errno 11001] getaddrinfo failed')': /simple/scipy/\n",
      "WARNING: Retrying (Retry(total=2, connect=None, read=None, redirect=None, status=None)) after connection broken by 'NewConnectionError('<pip._vendor.urllib3.connection.HTTPSConnection object at 0x0000026860007D40>: Failed to establish a new connection: [Errno 11001] getaddrinfo failed')': /simple/scipy/\n",
      "WARNING: Retrying (Retry(total=1, connect=None, read=None, redirect=None, status=None)) after connection broken by 'NewConnectionError('<pip._vendor.urllib3.connection.HTTPSConnection object at 0x00000268600173B0>: Failed to establish a new connection: [Errno 11001] getaddrinfo failed')': /simple/scipy/\n",
      "WARNING: Retrying (Retry(total=0, connect=None, read=None, redirect=None, status=None)) after connection broken by 'NewConnectionError('<pip._vendor.urllib3.connection.HTTPSConnection object at 0x0000026860015D30>: Failed to establish a new connection: [Errno 11001] getaddrinfo failed')': /simple/scipy/\n",
      "WARNING: Retrying (Retry(total=4, connect=None, read=None, redirect=None, status=None)) after connection broken by 'NewConnectionError('<pip._vendor.urllib3.connection.HTTPSConnection object at 0x000002686003A2D0>: Failed to establish a new connection: [Errno 11001] getaddrinfo failed')': /simple/networkx/\n",
      "WARNING: Retrying (Retry(total=3, connect=None, read=None, redirect=None, status=None)) after connection broken by 'NewConnectionError('<pip._vendor.urllib3.connection.HTTPSConnection object at 0x000002686003A3F0>: Failed to establish a new connection: [Errno 11001] getaddrinfo failed')': /simple/networkx/\n",
      "WARNING: Retrying (Retry(total=2, connect=None, read=None, redirect=None, status=None)) after connection broken by 'NewConnectionError('<pip._vendor.urllib3.connection.HTTPSConnection object at 0x000002686003A720>: Failed to establish a new connection: [Errno 11001] getaddrinfo failed')': /simple/networkx/\n",
      "WARNING: Retrying (Retry(total=1, connect=None, read=None, redirect=None, status=None)) after connection broken by 'NewConnectionError('<pip._vendor.urllib3.connection.HTTPSConnection object at 0x000002686003A930>: Failed to establish a new connection: [Errno 11001] getaddrinfo failed')': /simple/networkx/\n",
      "WARNING: Retrying (Retry(total=0, connect=None, read=None, redirect=None, status=None)) after connection broken by 'NewConnectionError('<pip._vendor.urllib3.connection.HTTPSConnection object at 0x000002686003AB70>: Failed to establish a new connection: [Errno 11001] getaddrinfo failed')': /simple/networkx/\n"
     ]
    },
    {
     "name": "stdout",
     "output_type": "stream",
     "text": [
      "Requirement already satisfied: scipy in c:\\users\\decis\\anaconda3\\envs\\kaveh\\lib\\site-packages (1.16.2)\n",
      "Requirement already satisfied: networkx in c:\\users\\decis\\anaconda3\\envs\\kaveh\\lib\\site-packages (3.5)\n",
      "Requirement already satisfied: numpy<2.6,>=1.25.2 in c:\\users\\decis\\anaconda3\\envs\\kaveh\\lib\\site-packages (from scipy) (2.3.3)\n"
     ]
    }
   ],
   "source": [
    "# Upgrade packages\n",
    "!pip install --upgrade scipy networkx"
   ]
  },
  {
   "cell_type": "code",
   "execution_count": 5,
   "metadata": {
    "id": "QeqN7MHvH1OA"
   },
   "outputs": [],
   "source": [
    "# Import the NetworkX package\n",
    "import networkx as nx"
   ]
  },
  {
   "cell_type": "markdown",
   "metadata": {
    "id": "MCIeGAfLfAMK"
   },
   "source": [
    "## Graph\n",
    "NetworkX provides several classes to store different types of graphs, such as directed and undirected graph. It also provides classes to create multigraphs (both directed and undirected).\n",
    "\n",
    "For more information, please refer to [NetworkX graph types](https://networkx.org/documentation/stable/reference/classes/index.html)."
   ]
  },
  {
   "cell_type": "code",
   "execution_count": 6,
   "metadata": {
    "colab": {
     "base_uri": "https://localhost:8080/"
    },
    "id": "qSI_n6P-e0PW",
    "outputId": "65b2f068-05cb-4a31-f697-7a4f966e2671"
   },
   "outputs": [
    {
     "name": "stdout",
     "output_type": "stream",
     "text": [
      "False\n",
      "True\n",
      "{'Name': 'Bar'}\n"
     ]
    }
   ],
   "source": [
    "# Create an undirected graph G\n",
    "G = nx.Graph()\n",
    "print(G.is_directed())\n",
    "\n",
    "# Create a directed graph H\n",
    "H = nx.DiGraph()\n",
    "print(H.is_directed())\n",
    "\n",
    "# Add graph level attribute\n",
    "G.graph[\"Name\"] = \"Bar\"\n",
    "print(G.graph)"
   ]
  },
  {
   "cell_type": "markdown",
   "metadata": {
    "id": "x0pLs0-Ka9j8"
   },
   "source": [
    "## Node\n",
    "\n",
    "Nodes (with attributes) can be easily added to NetworkX graphs."
   ]
  },
  {
   "cell_type": "code",
   "execution_count": 7,
   "metadata": {
    "colab": {
     "base_uri": "https://localhost:8080/"
    },
    "id": "jQ8ApAL5H1GB",
    "outputId": "3e9907e9-bbf1-435d-acdb-37eba9a5b678"
   },
   "outputs": [
    {
     "name": "stdout",
     "output_type": "stream",
     "text": [
      "Node 0 has the attributes {'feature': 5, 'label': 0}\n"
     ]
    }
   ],
   "source": [
    "# Add one node with node level attributes\n",
    "G.add_node(0, feature=5, label=0)\n",
    "\n",
    "# Get attributes of the node 0\n",
    "node_0_attr = G.nodes[0]\n",
    "print(\"Node 0 has the attributes {}\".format(node_0_attr))"
   ]
  },
  {
   "cell_type": "code",
   "execution_count": 8,
   "metadata": {
    "colab": {
     "base_uri": "https://localhost:8080/"
    },
    "id": "rZaJklNJSbt2",
    "outputId": "86c96411-494b-4b3c-a3d1-5e27c154f768"
   },
   "outputs": [
    {
     "data": {
      "text/plain": [
       "NodeDataView({0: {'feature': 5, 'label': 0}})"
      ]
     },
     "execution_count": 8,
     "metadata": {},
     "output_type": "execute_result"
    }
   ],
   "source": [
    "G.nodes(data=True)"
   ]
  },
  {
   "cell_type": "code",
   "execution_count": 9,
   "metadata": {
    "colab": {
     "base_uri": "https://localhost:8080/"
    },
    "id": "btOdMYqJaKia",
    "outputId": "6ce1e08c-eb06-4849-f50c-dea71ad69bca"
   },
   "outputs": [
    {
     "name": "stdout",
     "output_type": "stream",
     "text": [
      "(0, {'feature': 5, 'label': 0})\n",
      "(1, {'feature': 1, 'label': 1})\n",
      "(2, {'feature': 2, 'label': 2})\n",
      "G has 3 nodes\n"
     ]
    }
   ],
   "source": [
    "# Add multiple nodes with attributes\n",
    "G.add_nodes_from([\n",
    "  (1, {\"feature\": 1, \"label\": 1}),\n",
    "  (2, {\"feature\": 2, \"label\": 2})\n",
    "]) #(node, attrdict)\n",
    "\n",
    "# Loop through all the nodes\n",
    "# Set data=True will return node attributes\n",
    "for node in G.nodes(data=True):\n",
    "  print(node)\n",
    "\n",
    "# Get number of nodes\n",
    "num_nodes = G.number_of_nodes()\n",
    "print(\"G has {} nodes\".format(num_nodes))"
   ]
  },
  {
   "cell_type": "markdown",
   "metadata": {
    "id": "0AdoaZPgbRis"
   },
   "source": [
    "## Edge\n",
    "\n",
    "Similar to nodes, edges (with attributes) can also be easily added to NetworkX graphs."
   ]
  },
  {
   "cell_type": "code",
   "execution_count": 10,
   "metadata": {
    "colab": {
     "base_uri": "https://localhost:8080/"
    },
    "id": "0szH5F6EH079",
    "outputId": "0cbd94e5-311d-4006-d7cf-4b829a96e4cc"
   },
   "outputs": [
    {
     "name": "stdout",
     "output_type": "stream",
     "text": [
      "Edge (0, 1) has the attributes {'weight': 0.5}\n"
     ]
    }
   ],
   "source": [
    "# Add one edge with edge weight 0.5\n",
    "G.add_edge(0, 1, weight=0.5)\n",
    "\n",
    "# Get attributes of the edge (0, 1)\n",
    "edge_0_1_attr = G.edges[(0, 1)]\n",
    "print(\"Edge (0, 1) has the attributes {}\".format(edge_0_1_attr))"
   ]
  },
  {
   "cell_type": "code",
   "execution_count": 11,
   "metadata": {
    "colab": {
     "base_uri": "https://localhost:8080/"
    },
    "id": "QRTmi4EUaf_I",
    "outputId": "949f65b3-78f9-4b1f-c27d-a212f65c938b"
   },
   "outputs": [
    {
     "name": "stdout",
     "output_type": "stream",
     "text": [
      "(0, 1, {'weight': 0.5})\n",
      "(0, 2, {'weight': 0.1})\n",
      "(1, 2, {'weight': 0.3})\n",
      "G has 3 edges\n"
     ]
    }
   ],
   "source": [
    "# Add multiple edges with edge weights\n",
    "G.add_edges_from([\n",
    "  (1, 2, {\"weight\": 0.3}),\n",
    "  (2, 0, {\"weight\": 0.1})\n",
    "])\n",
    "\n",
    "# Loop through all the edges\n",
    "# Here there is no data=True, so only the edge will be returned\n",
    "for edge in G.edges(data=True):\n",
    "  print(edge)\n",
    "\n",
    "# Get number of edges\n",
    "num_edges = G.number_of_edges()\n",
    "print(\"G has {} edges\".format(num_edges))"
   ]
  },
  {
   "cell_type": "markdown",
   "metadata": {
    "id": "9u1Utjn4bc7k"
   },
   "source": [
    "## Visualization\n",
    "NetworkX also provides tooling to conventiently visualize graphs."
   ]
  },
  {
   "cell_type": "code",
   "execution_count": 12,
   "metadata": {
    "colab": {
     "base_uri": "https://localhost:8080/",
     "height": 516
    },
    "id": "lykPzFOEahuP",
    "outputId": "233edf4d-993f-49e5-9cc6-d3e9fc3041e0"
   },
   "outputs": [
    {
     "data": {
      "image/png": "[encoded data removed]",
      "text/plain": [
       "<Figure size 640x480 with 1 Axes>"
      ]
     },
     "metadata": {},
     "output_type": "display_data"
    }
   ],
   "source": [
    "# Draw the graph\n",
    "nx.draw(G, with_labels = True)"
   ]
  },
  {
   "cell_type": "markdown",
   "metadata": {
    "id": "_Q6YTP2FDbOS"
   },
   "source": [
    "## Node Degree and Neighbor"
   ]
  },
  {
   "cell_type": "code",
   "execution_count": 13,
   "metadata": {
    "colab": {
     "base_uri": "https://localhost:8080/"
    },
    "id": "GFA3B6Z_DE3q",
    "outputId": "0427fe53-351e-44e5-d053-86716842e05d"
   },
   "outputs": [
    {
     "name": "stdout",
     "output_type": "stream",
     "text": [
      "Node 1 has degree 2\n",
      "Node 1 has neighbor 0\n",
      "Node 1 has neighbor 2\n"
     ]
    }
   ],
   "source": [
    "node_id = 1\n",
    "\n",
    "# Degree of node 1\n",
    "print(\"Node {} has degree {}\".format(node_id, G.degree[node_id]))\n",
    "\n",
    "# Get neighbor of node 1\n",
    "for neighbor in G.neighbors(node_id):\n",
    "  print(\"Node {} has neighbor {}\".format(node_id, neighbor))"
   ]
  },
  {
   "cell_type": "markdown",
   "metadata": {
    "id": "4gVRVckZeSdA"
   },
   "source": [
    "## Other Functionalities\n",
    "\n",
    "NetworkX also provides plenty of useful methods to study graphs.\n",
    "\n",
    "Here is an example to get [PageRank](https://networkx.org/documentation/stable/reference/algorithms/generated/networkx.algorithms.link_analysis.pagerank_alg.pagerank.html#networkx.algorithms.link_analysis.pagerank_alg.pagerank) of nodes for more information!)."
   ]
  },
  {
   "cell_type": "markdown",
   "metadata": {},
   "source": [
    "The **PageRank** function in **NetworkX** calculates a **“score of importance”** for each node in a **directed graph** — representing how influential or central each node is, based on the structure of incoming links.\n",
    "\n",
    "In other words:\n",
    "\n",
    "> PageRank estimates the **probability that a random walker** will land on a given node at any step of a long random walk through the network.\n",
    "\n",
    "---\n",
    "\n",
    "### 🔹 Intuitive Meaning\n",
    "\n",
    "* A node gets a **high PageRank** if:\n",
    "\n",
    "  * It is **linked to by many other nodes**, especially by other **important nodes**.\n",
    "  * It has **inbound edges** from nodes that themselves have **high PageRank** values.\n",
    "\n",
    "So it’s not just about *how many* links point to a node — it’s about *who* links to it.\n",
    "\n",
    "---\n",
    "\n",
    "### 🔹 Formula (simplified)\n",
    "\n",
    "For a directed graph $ G = (V, E) $, the PageRank of a node $ i $ is:\n",
    "\n",
    "$$\n",
    "PR(i) = \\frac{1 - d}{N} + d \\sum_{j \\in M_i} \\frac{PR(j)}{L(j)}\n",
    "$$\n",
    "\n",
    "Where:\n",
    "\n",
    "* ( N ): total number of nodes\n",
    "* ( d ): damping factor (default in NetworkX: 0.85)\n",
    "* $ M_i $: set of nodes linking **to** node ( i )\n",
    "* $ L(j) $: number of outbound links from node ( j )\n",
    "* $ \\frac{1 - d}{N} $: probability of jumping to a random node (the \"teleportation\" term)\n",
    "\n",
    "---\n",
    "\n",
    "### 🔹 In NetworkX\n",
    "\n",
    "Function signature:\n",
    "\n",
    "```python\n",
    "networkx.pagerank(G, alpha=0.85, max_iter=100, tol=1e-06, weight='weight')\n",
    "```\n",
    "\n",
    "* **`G`**: Directed graph (`DiGraph`)\n",
    "* **`alpha`**: Damping factor (probability of following a link)\n",
    "* **`weight`**: Edge attribute to use as weight (if provided)\n",
    "* Returns: a dictionary mapping each node → PageRank score\n"
   ]
  },
  {
   "cell_type": "code",
   "execution_count": 14,
   "metadata": {
    "colab": {
     "base_uri": "https://localhost:8080/"
    },
    "id": "ex2BN6rDTaQ_",
    "outputId": "d96acee9-8415-4384-9c54-abd922cddd4e"
   },
   "outputs": [
    {
     "data": {
      "text/plain": [
       "<networkx.classes.graph.Graph at 0x15cf39fcfb0>"
      ]
     },
     "execution_count": 14,
     "metadata": {},
     "output_type": "execute_result"
    }
   ],
   "source": [
    "nx.path_graph(num_nodes)"
   ]
  },
  {
   "cell_type": "code",
   "execution_count": 15,
   "metadata": {
    "colab": {
     "base_uri": "https://localhost:8080/",
     "height": 587
    },
    "id": "_gZfQ82Wiuvv",
    "outputId": "ffba7d5b-f304-4f1f-c4e5-6ec6340b23aa"
   },
   "outputs": [
    {
     "data": {
      "text/plain": [
       "{0: 0.17857162031103999,\n",
       " 1: 0.32142837968896,\n",
       " 2: 0.32142837968896,\n",
       " 3: 0.17857162031103999}"
      ]
     },
     "execution_count": 15,
     "metadata": {},
     "output_type": "execute_result"
    },
    {
     "data": {
      "image/png": "[encoded data removed]",
      "text/plain": [
       "<Figure size 640x480 with 1 Axes>"
      ]
     },
     "metadata": {},
     "output_type": "display_data"
    }
   ],
   "source": [
    "num_nodes = 4\n",
    "# Create a new path like graph and change it to a directed graph\n",
    "G = nx.DiGraph(nx.path_graph(num_nodes))\n",
    "nx.draw(G, with_labels = True)\n",
    "\n",
    "# Get the PageRank\n",
    "pr = nx.pagerank(G, alpha=0.8)\n",
    "pr"
   ]
  },
  {
   "cell_type": "markdown",
   "metadata": {
    "id": "RrIFCJnlvGkg"
   },
   "source": [
    "## Documentation"
   ]
  },
  {
   "cell_type": "markdown",
   "metadata": {
    "id": "_7PBwhIKu3et"
   },
   "source": [
    "You can explore more NetworkX functions through its [documentation](https://networkx.org/documentation/stable/)."
   ]
  },
  {
   "cell_type": "markdown",
   "metadata": {
    "id": "MDcCjrW3JWzG"
   },
   "source": [
    "# PyTorch Geometric Tutorial\n",
    "\n",
    "PyTorch Geometric (PyG) is an extension library for PyTorch. It provides useful primitives to develop Graph Deep Learning models, including various graph neural network layers and a large number of benchmark datasets.\n",
    "\n",
    "Don't worry if you don't understand some concepts such as `GCNConv` -- we will cover all of them in the future lectures :)\n",
    "\n",
    "This tutorial is adapted from https://colab.research.google.com/drive/1h3-vJGRVloF5zStxL5I0rSy4ZUPNsjy8?usp=sharing#scrollTo=ci-LpZWhRJoI by [Matthias Fey](https://rusty1s.github.io/#/)\n"
   ]
  },
  {
   "cell_type": "code",
   "execution_count": 16,
   "metadata": {
    "colab": {
     "base_uri": "https://localhost:8080/"
    },
    "id": "WU7NCZtQ6msa",
    "outputId": "4c7f361e-79ca-4c28-e85e-681bd1b44738"
   },
   "outputs": [
    {
     "name": "stdout",
     "output_type": "stream",
     "text": [
      "PyTorch has version 2.8.0+cpu\n"
     ]
    }
   ],
   "source": [
    "import torch\n",
    "print(\"PyTorch has version {}\".format(torch.__version__))"
   ]
  },
  {
   "cell_type": "markdown",
   "metadata": {
    "id": "n7gMjMCT677n"
   },
   "source": [
    "## Installing dependencies\n",
    "\n",
    "The installation of PyG on this workshop can be a little bit tricky. Execute the cell below -- in case of issues, more information can be found on the [PyG's installation page](https://pytorch-geometric.readthedocs.io/en/latest/notes/installation.html).\n",
    "\n",
    "_Note: This cell might take a while (up to ~10 minutes) to run_"
   ]
  },
  {
   "cell_type": "code",
   "execution_count": 14,
   "metadata": {
    "colab": {
     "base_uri": "https://localhost:8080/"
    },
    "id": "tRNEKu-R66Cw",
    "outputId": "404728bb-478b-4130-fc33-45a4cd0321f0"
   },
   "outputs": [],
   "source": [
    "# Install torch geometric\n",
    "# !pip install -q torch-scatter -f https://pytorch-geometric.com/whl/torch-1.7.0+cu101.html\n",
    "# !pip install -q torch-sparse -f https://pytorch-geometric.com/whl/torch-1.7.0+cu101.html\n",
    "# !pip install torch-scatter \n",
    "!pip install -q torch-geometric"
   ]
  },
  {
   "cell_type": "markdown",
   "metadata": {
    "id": "HLxnaKsN8GVf"
   },
   "source": [
    "## Visualization"
   ]
  },
  {
   "cell_type": "code",
   "execution_count": 17,
   "metadata": {
    "id": "qywlcjyr8USw"
   },
   "outputs": [],
   "source": [
    "# Helper function for visualization.\n",
    "%matplotlib inline\n",
    "import torch\n",
    "import networkx as nx\n",
    "import matplotlib.pyplot as plt\n",
    "\n",
    "# Visualization function for NX graph or PyTorch tensor\n",
    "def visualize(h, color, epoch=None, loss=None, accuracy=None):\n",
    "    plt.figure(figsize=(7,7))\n",
    "    plt.xticks([])\n",
    "    plt.yticks([])\n",
    "\n",
    "    if torch.is_tensor(h):\n",
    "        h = h.detach().cpu().numpy()\n",
    "        plt.scatter(h[:, 0], h[:, 1], s=140, c=color, cmap=\"Set2\")\n",
    "        if epoch is not None and loss is not None and accuracy['train'] is not None and accuracy['val'] is not None:\n",
    "            plt.xlabel((f'Epoch: {epoch}, Loss: {loss.item():.4f} \\n'\n",
    "                       f'Training Accuracy: {accuracy[\"train\"]*100:.2f}% \\n'\n",
    "                       f' Validation Accuracy: {accuracy[\"val\"]*100:.2f}%'),\n",
    "                       fontsize=16)\n",
    "    else:\n",
    "        nx.draw_networkx(h, pos=nx.spring_layout(h, seed=42), with_labels=False,\n",
    "                         node_color=color, cmap=\"Set2\")\n",
    "    plt.show()"
   ]
  },
  {
   "cell_type": "markdown",
   "metadata": {
    "id": "bbny-iTO7NQN"
   },
   "source": [
    "## Introduction\n",
    "\n",
    "Recently, deep learning on graphs has emerged to one of the hottest research fields in the deep learning community.\n",
    "Here, **Graph Neural Networks (GNNs)** aim to generalize classical deep learning concepts to irregular structured data (in contrast to images or texts) and to enable neural networks to reason about objects and their relations.\n",
    "\n",
    "This tutorial will introduce you to some fundamental concepts regarding deep learning on graphs via Graph Neural Networks based on the **[PyTorch Geometric (PyG) library](https://github.com/rusty1s/pytorch_geometric)**.\n",
    "PyTorch Geometric is an extension library to the popular deep learning framework [PyTorch](https://pytorch.org/), and consists of various methods and utilities to ease the implementation of Graph Neural Networks.\n",
    "\n",
    "Following [Kipf et al. (2017)](https://arxiv.org/abs/1609.02907), let's dive into the world of GNNs by looking at a simple graph-structured example, the well-known [**Zachary's karate club network**](https://en.wikipedia.org/wiki/Zachary%27s_karate_club). This graph describes a social network of 34 members of a karate club and documents links between members who interacted outside the club. Here, we are interested in detecting communities that arise from the member's interaction."
   ]
  },
  {
   "cell_type": "markdown",
   "metadata": {
    "id": "g3uPffzbyqn9"
   },
   "source": [
    "## Dataset\n",
    "\n",
    "PyTorch Geometric provides an easy access to the dataset via the [`torch_geometric.datasets`](https://pytorch-geometric.readthedocs.io/en/latest/modules/datasets.html#torch_geometric.datasets) subpackage:"
   ]
  },
  {
   "cell_type": "code",
   "execution_count": 18,
   "metadata": {
    "id": "YrpL9CtS7nx2"
   },
   "outputs": [
    {
     "name": "stdout",
     "output_type": "stream",
     "text": [
      "Dataset: KarateClub():\n",
      "======================\n",
      "Number of graphs: 1\n",
      "Number of features: 34\n",
      "Number of classes: 4\n"
     ]
    }
   ],
   "source": [
    "from torch_geometric.datasets import KarateClub\n",
    "\n",
    "dataset = KarateClub()\n",
    "print(f'Dataset: {dataset}:')\n",
    "print('======================')\n",
    "print(f'Number of graphs: {len(dataset)}')\n",
    "print(f'Number of features: {dataset.num_features}')\n",
    "print(f'Number of classes: {dataset.num_classes}')"
   ]
  },
  {
   "cell_type": "markdown",
   "metadata": {
    "id": "lCeRGa2q7sdl"
   },
   "source": [
    "After initializing the [`KarateClub`](https://pytorch-geometric.readthedocs.io/en/latest/modules/datasets.html#torch_geometric.datasets.KarateClub) dataset, we first can inspect some of its properties.\n",
    "For example, we can see that this dataset holds exactly **one graph**, and that each node in this dataset is assigned a **34-dimensional feature vector** (which uniquely describes the members of the karate club).\n",
    "Furthermore, the graph holds exactly **4 classes**, which represent the community each node belongs to.\n",
    "\n",
    "Let's now look at the underlying graph in more detail:"
   ]
  },
  {
   "cell_type": "code",
   "execution_count": 19,
   "metadata": {
    "id": "sTLapYhP7uCn"
   },
   "outputs": [
    {
     "name": "stdout",
     "output_type": "stream",
     "text": [
      "Data(x=[34, 34], edge_index=[2, 156], y=[34], train_mask=[34])\n",
      "==============================================================\n",
      "Number of nodes: 34\n",
      "Number of edges: 156\n",
      "Average node degree: 4.59\n",
      "Number of training nodes: 4\n",
      "Training node label rate: 0.12\n",
      "Contains isolated nodes: False\n",
      "Contains self-loops: False\n",
      "Is undirected: True\n"
     ]
    }
   ],
   "source": [
    "data = dataset[0]  # Get the first graph object.\n",
    "\n",
    "print(data)\n",
    "print('==============================================================')\n",
    "\n",
    "# Gather some statistics about the graph.\n",
    "print(f'Number of nodes: {data.num_nodes}')\n",
    "print(f'Number of edges: {data.num_edges}')\n",
    "print(f'Average node degree: {(data.num_edges) / data.num_nodes:.2f}')\n",
    "print(f'Number of training nodes: {data.train_mask.sum()}')\n",
    "print(f'Training node label rate: {int(data.train_mask.sum()) / data.num_nodes:.2f}')\n",
    "print(f'Contains isolated nodes: {data.has_isolated_nodes()}')\n",
    "print(f'Contains self-loops: {data.has_self_loops()}')\n",
    "print(f'Is undirected: {data.is_undirected()}')"
   ]
  },
  {
   "cell_type": "code",
   "execution_count": 20,
   "metadata": {
    "id": "tu7b7G6Ai3D1"
   },
   "outputs": [
    {
     "data": {
      "text/plain": [
       "tensor([[ 0,  1],\n",
       "        [ 0,  2],\n",
       "        [ 0,  3],\n",
       "        [ 0,  4],\n",
       "        [ 0,  5],\n",
       "        [ 0,  6],\n",
       "        [ 0,  7],\n",
       "        [ 0,  8],\n",
       "        [ 0, 10],\n",
       "        [ 0, 11],\n",
       "        [ 0, 12],\n",
       "        [ 0, 13],\n",
       "        [ 0, 17],\n",
       "        [ 0, 19],\n",
       "        [ 0, 21],\n",
       "        [ 0, 31],\n",
       "        [ 1,  0],\n",
       "        [ 1,  2],\n",
       "        [ 1,  3],\n",
       "        [ 1,  7],\n",
       "        [ 1, 13],\n",
       "        [ 1, 17],\n",
       "        [ 1, 19],\n",
       "        [ 1, 21],\n",
       "        [ 1, 30],\n",
       "        [ 2,  0],\n",
       "        [ 2,  1],\n",
       "        [ 2,  3],\n",
       "        [ 2,  7],\n",
       "        [ 2,  8],\n",
       "        [ 2,  9],\n",
       "        [ 2, 13],\n",
       "        [ 2, 27],\n",
       "        [ 2, 28],\n",
       "        [ 2, 32],\n",
       "        [ 3,  0],\n",
       "        [ 3,  1],\n",
       "        [ 3,  2],\n",
       "        [ 3,  7],\n",
       "        [ 3, 12],\n",
       "        [ 3, 13],\n",
       "        [ 4,  0],\n",
       "        [ 4,  6],\n",
       "        [ 4, 10],\n",
       "        [ 5,  0],\n",
       "        [ 5,  6],\n",
       "        [ 5, 10],\n",
       "        [ 5, 16],\n",
       "        [ 6,  0],\n",
       "        [ 6,  4],\n",
       "        [ 6,  5],\n",
       "        [ 6, 16],\n",
       "        [ 7,  0],\n",
       "        [ 7,  1],\n",
       "        [ 7,  2],\n",
       "        [ 7,  3],\n",
       "        [ 8,  0],\n",
       "        [ 8,  2],\n",
       "        [ 8, 30],\n",
       "        [ 8, 32],\n",
       "        [ 8, 33],\n",
       "        [ 9,  2],\n",
       "        [ 9, 33],\n",
       "        [10,  0],\n",
       "        [10,  4],\n",
       "        [10,  5],\n",
       "        [11,  0],\n",
       "        [12,  0],\n",
       "        [12,  3],\n",
       "        [13,  0],\n",
       "        [13,  1],\n",
       "        [13,  2],\n",
       "        [13,  3],\n",
       "        [13, 33],\n",
       "        [14, 32],\n",
       "        [14, 33],\n",
       "        [15, 32],\n",
       "        [15, 33],\n",
       "        [16,  5],\n",
       "        [16,  6],\n",
       "        [17,  0],\n",
       "        [17,  1],\n",
       "        [18, 32],\n",
       "        [18, 33],\n",
       "        [19,  0],\n",
       "        [19,  1],\n",
       "        [19, 33],\n",
       "        [20, 32],\n",
       "        [20, 33],\n",
       "        [21,  0],\n",
       "        [21,  1],\n",
       "        [22, 32],\n",
       "        [22, 33],\n",
       "        [23, 25],\n",
       "        [23, 27],\n",
       "        [23, 29],\n",
       "        [23, 32],\n",
       "        [23, 33],\n",
       "        [24, 25],\n",
       "        [24, 27],\n",
       "        [24, 31],\n",
       "        [25, 23],\n",
       "        [25, 24],\n",
       "        [25, 31],\n",
       "        [26, 29],\n",
       "        [26, 33],\n",
       "        [27,  2],\n",
       "        [27, 23],\n",
       "        [27, 24],\n",
       "        [27, 33],\n",
       "        [28,  2],\n",
       "        [28, 31],\n",
       "        [28, 33],\n",
       "        [29, 23],\n",
       "        [29, 26],\n",
       "        [29, 32],\n",
       "        [29, 33],\n",
       "        [30,  1],\n",
       "        [30,  8],\n",
       "        [30, 32],\n",
       "        [30, 33],\n",
       "        [31,  0],\n",
       "        [31, 24],\n",
       "        [31, 25],\n",
       "        [31, 28],\n",
       "        [31, 32],\n",
       "        [31, 33],\n",
       "        [32,  2],\n",
       "        [32,  8],\n",
       "        [32, 14],\n",
       "        [32, 15],\n",
       "        [32, 18],\n",
       "        [32, 20],\n",
       "        [32, 22],\n",
       "        [32, 23],\n",
       "        [32, 29],\n",
       "        [32, 30],\n",
       "        [32, 31],\n",
       "        [32, 33],\n",
       "        [33,  8],\n",
       "        [33,  9],\n",
       "        [33, 13],\n",
       "        [33, 14],\n",
       "        [33, 15],\n",
       "        [33, 18],\n",
       "        [33, 19],\n",
       "        [33, 20],\n",
       "        [33, 22],\n",
       "        [33, 23],\n",
       "        [33, 26],\n",
       "        [33, 27],\n",
       "        [33, 28],\n",
       "        [33, 29],\n",
       "        [33, 30],\n",
       "        [33, 31],\n",
       "        [33, 32]])"
      ]
     },
     "execution_count": 20,
     "metadata": {},
     "output_type": "execute_result"
    }
   ],
   "source": [
    "data.edge_index.T"
   ]
  },
  {
   "cell_type": "markdown",
   "metadata": {
    "id": "lIzbIoc-y8J4"
   },
   "source": [
    "## Data"
   ]
  },
  {
   "cell_type": "markdown",
   "metadata": {
    "id": "I5zhmKIH72Rf"
   },
   "source": [
    "\n",
    "Each graph in PyTorch Geometric is represented by a single [`Data`](https://pytorch-geometric.readthedocs.io/en/latest/modules/data.html#torch_geometric.data.Data) object, which holds all the information to describe its graph representation.\n",
    "We can print the data object anytime via `print(data)` to receive a short summary about its attributes and their shapes:\n",
    "```\n",
    "Data(edge_index=[2, 156], x=[34, 34], y=[34], train_mask=[34])\n",
    "```\n",
    "We can see that this `data` object holds 4 attributes:\n",
    "(1) The `edge_index` property holds the information about the **graph connectivity**, *i.e.*, a tuple of source and destination node indices for each edge.\n",
    "PyG further refers to (2) **node features** as `x` (each of the 34 nodes is assigned a 34-dim feature vector), and to (3) **node labels** as `y` (each node is assigned to exactly one class).\n",
    "(4) There also exists an additional attribute called `train_mask`, which describes for which nodes we already know their community assigments.\n",
    "In total, we are only aware of the ground-truth labels of 4 nodes (one for each community), and the task is to infer the community assignment for the remaining nodes.\n",
    "\n",
    "The `data` object also provides some **utility functions** to infer some basic properties of the underlying graph.\n",
    "For example, we can easily infer whether there exists isolated nodes in the graph (*i.e.* there exists no edge to any node), whether the graph contains self-loops (*i.e.*, $(v, v) \\in \\mathbb{E}$), or whether the graph is undirected (*i.e.*, for each edge $(v, w) \\in \\mathbb{E}$ there also exists the edge $(w, v) \\in \\mathbb{E}$)."
   ]
  },
  {
   "cell_type": "markdown",
   "metadata": {},
   "source": [
    "### 🔹 Example\n",
    "\n",
    "Suppose your graph has 34 nodes.\n",
    "The data object summary shows:\n",
    "\n",
    "```\n",
    "Data(edge_index=[2, 156], x=[34, 34], y=[34], train_mask=[34])\n",
    "```\n",
    "\n",
    "That means:\n",
    "\n",
    "* 34 nodes\n",
    "* Each node has 34 features (`x`)\n",
    "* Each node has one label (`y`)\n",
    "* `train_mask` is a 34-element boolean tensor\n",
    "\n",
    "If you print it:\n",
    "\n",
    "```python\n",
    "print(data.train_mask)\n",
    "```\n",
    "\n",
    "You might see something like:\n",
    "\n",
    "```python\n",
    "tensor([ True, False, False, True, False, ..., False])\n",
    "```\n",
    "\n",
    "That means only those nodes marked as `True` (e.g. 4 of them) are used for training.\n",
    "\n",
    "---\n",
    "\n",
    "### 🔹 Why it’s important\n",
    "\n",
    "When training your GNN, you typically compute the loss **only** on nodes marked `True` in `train_mask`:\n",
    "\n",
    "```python\n",
    "out = model(data.x, data.edge_index)\n",
    "loss = F.cross_entropy(out[data.train_mask], data.y[data.train_mask])\n",
    "loss.backward()\n",
    "```\n",
    "\n",
    "Then you might evaluate on other masks:\n",
    "\n",
    "* `data.val_mask` → for validation\n",
    "* `data.test_mask` → for testing"
   ]
  },
  {
   "cell_type": "code",
   "execution_count": 21,
   "metadata": {
    "id": "2WBDduWreQNQ"
   },
   "outputs": [
    {
     "name": "stdout",
     "output_type": "stream",
     "text": [
      "Data(x=[34, 34], edge_index=[2, 156], y=[34], train_mask=[34])\n"
     ]
    }
   ],
   "source": [
    "print(data)"
   ]
  },
  {
   "cell_type": "code",
   "execution_count": 39,
   "metadata": {},
   "outputs": [
    {
     "name": "stdout",
     "output_type": "stream",
     "text": [
      "tensor([ True, False, False, False,  True, False, False, False,  True, False,\n",
      "        False, False, False, False, False, False, False, False, False, False,\n",
      "        False, False, False, False,  True, False, False, False, False, False,\n",
      "        False, False, False, False])\n"
     ]
    }
   ],
   "source": [
    "print(data.train_mask)"
   ]
  },
  {
   "cell_type": "markdown",
   "metadata": {
    "id": "nLLsT0ROzffp"
   },
   "source": [
    "## Edge Index"
   ]
  },
  {
   "cell_type": "markdown",
   "metadata": {
    "id": "svWvpFyZeXfm"
   },
   "source": [
    "Next we'll print the `edge_index` of our graph:"
   ]
  },
  {
   "cell_type": "code",
   "execution_count": 22,
   "metadata": {
    "id": "iFA6Xi4O79r0"
   },
   "outputs": [
    {
     "data": {
      "application/javascript": [
       "google.colab.output.setIframeHeight(0, true, {maxHeight: 300})"
      ],
      "text/plain": [
       "<IPython.core.display.Javascript object>"
      ]
     },
     "metadata": {},
     "output_type": "display_data"
    },
    {
     "name": "stdout",
     "output_type": "stream",
     "text": [
      "tensor([[ 0,  1],\n",
      "        [ 0,  2],\n",
      "        [ 0,  3],\n",
      "        [ 0,  4],\n",
      "        [ 0,  5],\n",
      "        [ 0,  6],\n",
      "        [ 0,  7],\n",
      "        [ 0,  8],\n",
      "        [ 0, 10],\n",
      "        [ 0, 11],\n",
      "        [ 0, 12],\n",
      "        [ 0, 13],\n",
      "        [ 0, 17],\n",
      "        [ 0, 19],\n",
      "        [ 0, 21],\n",
      "        [ 0, 31],\n",
      "        [ 1,  0],\n",
      "        [ 1,  2],\n",
      "        [ 1,  3],\n",
      "        [ 1,  7],\n",
      "        [ 1, 13],\n",
      "        [ 1, 17],\n",
      "        [ 1, 19],\n",
      "        [ 1, 21],\n",
      "        [ 1, 30],\n",
      "        [ 2,  0],\n",
      "        [ 2,  1],\n",
      "        [ 2,  3],\n",
      "        [ 2,  7],\n",
      "        [ 2,  8],\n",
      "        [ 2,  9],\n",
      "        [ 2, 13],\n",
      "        [ 2, 27],\n",
      "        [ 2, 28],\n",
      "        [ 2, 32],\n",
      "        [ 3,  0],\n",
      "        [ 3,  1],\n",
      "        [ 3,  2],\n",
      "        [ 3,  7],\n",
      "        [ 3, 12],\n",
      "        [ 3, 13],\n",
      "        [ 4,  0],\n",
      "        [ 4,  6],\n",
      "        [ 4, 10],\n",
      "        [ 5,  0],\n",
      "        [ 5,  6],\n",
      "        [ 5, 10],\n",
      "        [ 5, 16],\n",
      "        [ 6,  0],\n",
      "        [ 6,  4],\n",
      "        [ 6,  5],\n",
      "        [ 6, 16],\n",
      "        [ 7,  0],\n",
      "        [ 7,  1],\n",
      "        [ 7,  2],\n",
      "        [ 7,  3],\n",
      "        [ 8,  0],\n",
      "        [ 8,  2],\n",
      "        [ 8, 30],\n",
      "        [ 8, 32],\n",
      "        [ 8, 33],\n",
      "        [ 9,  2],\n",
      "        [ 9, 33],\n",
      "        [10,  0],\n",
      "        [10,  4],\n",
      "        [10,  5],\n",
      "        [11,  0],\n",
      "        [12,  0],\n",
      "        [12,  3],\n",
      "        [13,  0],\n",
      "        [13,  1],\n",
      "        [13,  2],\n",
      "        [13,  3],\n",
      "        [13, 33],\n",
      "        [14, 32],\n",
      "        [14, 33],\n",
      "        [15, 32],\n",
      "        [15, 33],\n",
      "        [16,  5],\n",
      "        [16,  6],\n",
      "        [17,  0],\n",
      "        [17,  1],\n",
      "        [18, 32],\n",
      "        [18, 33],\n",
      "        [19,  0],\n",
      "        [19,  1],\n",
      "        [19, 33],\n",
      "        [20, 32],\n",
      "        [20, 33],\n",
      "        [21,  0],\n",
      "        [21,  1],\n",
      "        [22, 32],\n",
      "        [22, 33],\n",
      "        [23, 25],\n",
      "        [23, 27],\n",
      "        [23, 29],\n",
      "        [23, 32],\n",
      "        [23, 33],\n",
      "        [24, 25],\n",
      "        [24, 27],\n",
      "        [24, 31],\n",
      "        [25, 23],\n",
      "        [25, 24],\n",
      "        [25, 31],\n",
      "        [26, 29],\n",
      "        [26, 33],\n",
      "        [27,  2],\n",
      "        [27, 23],\n",
      "        [27, 24],\n",
      "        [27, 33],\n",
      "        [28,  2],\n",
      "        [28, 31],\n",
      "        [28, 33],\n",
      "        [29, 23],\n",
      "        [29, 26],\n",
      "        [29, 32],\n",
      "        [29, 33],\n",
      "        [30,  1],\n",
      "        [30,  8],\n",
      "        [30, 32],\n",
      "        [30, 33],\n",
      "        [31,  0],\n",
      "        [31, 24],\n",
      "        [31, 25],\n",
      "        [31, 28],\n",
      "        [31, 32],\n",
      "        [31, 33],\n",
      "        [32,  2],\n",
      "        [32,  8],\n",
      "        [32, 14],\n",
      "        [32, 15],\n",
      "        [32, 18],\n",
      "        [32, 20],\n",
      "        [32, 22],\n",
      "        [32, 23],\n",
      "        [32, 29],\n",
      "        [32, 30],\n",
      "        [32, 31],\n",
      "        [32, 33],\n",
      "        [33,  8],\n",
      "        [33,  9],\n",
      "        [33, 13],\n",
      "        [33, 14],\n",
      "        [33, 15],\n",
      "        [33, 18],\n",
      "        [33, 19],\n",
      "        [33, 20],\n",
      "        [33, 22],\n",
      "        [33, 23],\n",
      "        [33, 26],\n",
      "        [33, 27],\n",
      "        [33, 28],\n",
      "        [33, 29],\n",
      "        [33, 30],\n",
      "        [33, 31],\n",
      "        [33, 32]])\n"
     ]
    }
   ],
   "source": [
    "from IPython.display import Javascript  # Restrict height of output cell.\n",
    "display(Javascript('''google.colab.output.setIframeHeight(0, true, {maxHeight: 300})'''))\n",
    "\n",
    "edge_index = data.edge_index\n",
    "print(edge_index.t())"
   ]
  },
  {
   "cell_type": "markdown",
   "metadata": {
    "id": "wQJyi9OB8dh_"
   },
   "source": [
    "By printing `edge_index`, we can further understand how PyG represents graph connectivity internally.\n",
    "We can see that for each edge, `edge_index` holds a tuple of two node indices, where the first value describes the node index of the source node and the second value describes the node index of the destination node of an edge.\n",
    "\n",
    "This representation is known as the **COO format (coordinate format)** commonly used for representing sparse matrices.\n",
    "Instead of holding the adjacency information in a dense representation $\\mathbf{A} \\in \\{ 0, 1 \\}^{|\\mathbb{V}| \\times |\\mathbb{V}|}$, PyG represents graphs sparsely, which refers to only holding the coordinates/values for which entries in $\\mathbf{A}$ are non-zero.\n",
    "\n",
    "We can further visualize the graph by converting it to the `networkx` library format, which implements, in addition to graph manipulation functionalities, powerful tools for visualization:"
   ]
  },
  {
   "cell_type": "code",
   "execution_count": 23,
   "metadata": {
    "id": "3KfJHtlV8h3W"
   },
   "outputs": [
    {
     "data": {
      "image/png": "[encoded data removed]",
      "text/plain": [
       "<Figure size 700x700 with 1 Axes>"
      ]
     },
     "metadata": {},
     "output_type": "display_data"
    }
   ],
   "source": [
    "from torch_geometric.utils import to_networkx\n",
    "\n",
    "G = to_networkx(data, to_undirected=True)\n",
    "visualize(G, color=data.y)"
   ]
  },
  {
   "cell_type": "markdown",
   "metadata": {
    "id": "E9bELRjibIRO"
   },
   "source": [
    "## Documentation\n",
    "\n"
   ]
  },
  {
   "cell_type": "markdown",
   "metadata": {
    "id": "OmqyWVNObNcK"
   },
   "source": [
    "You can explore more PyG functions through its [documentation](https://pytorch-geometric.readthedocs.io/en/latest/)."
   ]
  },
  {
   "cell_type": "markdown",
   "metadata": {},
   "source": [
    "# **Learning node embeddings**.\n",
    "We will go through the following 3 steps.\n",
    "\n",
    "To start, we will load a classic graph in network science, the [Karate Club Network](https://en.wikipedia.org/wiki/Zachary%27s_karate_club). We will explore multiple graph statistics for that graph.\n",
    "\n",
    "We will then work together to transform the graph structure into a PyTorch tensor, so that we can perform machine learning over the graph.\n",
    "\n",
    "Finally, we will finish the first learning algorithm on graphs: a node embedding model. For simplicity, our model here is simpler than DeepWalk / node2vec algorithms taught in the lecture. But it's still rewarding and challenging, as we will write it from scratch via PyTorch.\n",
    "\n",
    "Now let's get started!\\\n",
    "\n",
    "**Note**: Make sure to **restart and run all** before submission, so that the intermediate variables / packages will carry over to the next cell"
   ]
  },
  {
   "cell_type": "markdown",
   "metadata": {},
   "source": [
    "## Question 1: What is the average degree of the karate club network?"
   ]
  },
  {
   "cell_type": "code",
   "execution_count": 24,
   "metadata": {},
   "outputs": [
    {
     "name": "stdout",
     "output_type": "stream",
     "text": [
      "Average degree of karate club network is 5\n"
     ]
    }
   ],
   "source": [
    "def average_degree(num_edges, num_nodes):\n",
    "  # TODO: Implement this function that takes number of edges\n",
    "  # and number of nodes, and returns the average node degree of\n",
    "  # the graph. Round the result to nearest integer (for example\n",
    "  # 3.3 will be rounded to 3 and 3.7 will be rounded to 4)\n",
    "\n",
    "#   avg_degree = 0\n",
    "\n",
    "  ############# Your code here ############\n",
    "\n",
    "  avg_degree = (2 * num_edges) / num_nodes\n",
    "  # Round the result to the nearest integer\n",
    "  avg_degree = round(avg_degree)\n",
    "  #########################################\n",
    "\n",
    "  return avg_degree\n",
    "\n",
    "num_edges = G.number_of_edges()\n",
    "num_nodes = G.number_of_nodes()\n",
    "avg_degree = average_degree(num_edges, num_nodes)\n",
    "print(\"Average degree of karate club network is {}\".format(avg_degree))"
   ]
  },
  {
   "cell_type": "markdown",
   "metadata": {},
   "source": [
    "## the average clustering coefficient of the karate club network"
   ]
  },
  {
   "cell_type": "markdown",
   "metadata": {},
   "source": [
    "In **NetworkX**, the **average clustering coefficient** measures how strongly nodes in a graph tend to cluster together — i.e., how likely it is that two neighbors of a node are also neighbors of each other.\n",
    "\n",
    "You can compute it using the built-in function:\n",
    "\n",
    "```python\n",
    "import networkx as nx\n",
    "\n",
    "# Example: create a simple graph\n",
    "G = nx.erdos_renyi_graph(n=10, p=0.4)\n",
    "\n",
    "# Compute the average clustering coefficient\n",
    "avg_clustering = nx.average_clustering(G)\n",
    "\n",
    "print(avg_clustering)\n",
    "```\n",
    "\n",
    "### 🔍 Explanation\n",
    "\n",
    "* **`nx.average_clustering(G)`**\n",
    "  Returns the *average* of the local clustering coefficients for all nodes in the graph.\n",
    "\n",
    "* **Local clustering coefficient** for a node ( v ):\n",
    "  $$\n",
    "  C_v = \\frac{2 \\times \\text{number of edges between neighbors of } v}{k_v (k_v - 1)}\n",
    "  $$\n",
    "  where $ k_v $ is the degree of ( v ).\n",
    "\n",
    "* The **average clustering coefficient** is simply the mean of $ C_v $ over all nodes ( v ).\n",
    "\n",
    "### Optional parameters:\n",
    "\n",
    "You can control how the function behaves:\n",
    "\n",
    "```python\n",
    "nx.average_clustering(G, nodes=None, weight=None, count_zeros=True)\n",
    "```\n",
    "\n",
    "* `nodes`: compute only for a subset of nodes\n",
    "* `weight`: specify an edge attribute to use as weight\n",
    "* `count_zeros`: if `False`, exclude nodes with degree < 2\n",
    "\n",
    "Would you like me to show how to compute and visualize clustering coefficients for each node (e.g., as a histogram)?\n"
   ]
  },
  {
   "cell_type": "code",
   "execution_count": 25,
   "metadata": {},
   "outputs": [
    {
     "name": "stdout",
     "output_type": "stream",
     "text": [
      "Average clustering coefficient of karate club network is 0.5706384782076823\n"
     ]
    }
   ],
   "source": [
    "def average_clustering_coefficient(G):\n",
    "  # TODO: Implement this function that takes a nx.Graph\n",
    "  # and returns the average clustering coefficient. Round\n",
    "  # the result to 2 decimal places (for example 3.333 will\n",
    "  # be rounded to 3.33 and 3.7571 will be rounded to 3.76)\n",
    "\n",
    "#   avg_cluster_coef = 0\n",
    "\n",
    "  ############# Your code here ############\n",
    "  ## Note:\n",
    "  ## 1: Please use the appropriate NetworkX clustering function\n",
    "  avg_cluster_coef = nx.average_clustering(G)\n",
    "\n",
    "  #########################################\n",
    "\n",
    "  return avg_cluster_coef\n",
    "\n",
    "avg_cluster_coef = average_clustering_coefficient(G)\n",
    "print(\"Average clustering coefficient of karate club network is {}\".format(avg_cluster_coef))"
   ]
  },
  {
   "cell_type": "markdown",
   "metadata": {},
   "source": [
    "# 2 Graph to Tensor\n",
    "We will then work together to transform the graph $G$ into a PyTorch tensor, so that we can perform machine learning over the graph."
   ]
  },
  {
   "cell_type": "markdown",
   "metadata": {},
   "source": [
    "## Setup\n",
    "Check if PyTorch is properly installed"
   ]
  },
  {
   "cell_type": "code",
   "execution_count": 26,
   "metadata": {},
   "outputs": [
    {
     "name": "stdout",
     "output_type": "stream",
     "text": [
      "2.8.0+cpu\n"
     ]
    }
   ],
   "source": [
    "import torch\n",
    "print(torch.__version__)"
   ]
  },
  {
   "cell_type": "markdown",
   "metadata": {},
   "source": [
    "## PyTorch tensor basics\n",
    "\n",
    "We can generate PyTorch tensor with all zeros, ones or random values."
   ]
  },
  {
   "cell_type": "code",
   "execution_count": 28,
   "metadata": {},
   "outputs": [
    {
     "name": "stdout",
     "output_type": "stream",
     "text": [
      "tensor([[1., 1., 1., 1.],\n",
      "        [1., 1., 1., 1.],\n",
      "        [1., 1., 1., 1.]])\n",
      "tensor([[0., 0., 0., 0.],\n",
      "        [0., 0., 0., 0.],\n",
      "        [0., 0., 0., 0.]])\n",
      "tensor([[0.3562, 0.5269, 0.9447, 0.3381],\n",
      "        [0.3068, 0.4727, 0.7203, 0.6860],\n",
      "        [0.1460, 0.1841, 0.0451, 0.4331]])\n",
      "torch.Size([3, 4])\n"
     ]
    }
   ],
   "source": [
    "# Generate 3 x 4 tensor with all ones\n",
    "ones = torch.ones(3, 4)\n",
    "print(ones)\n",
    "\n",
    "# Generate 3 x 4 tensor with all zeros\n",
    "zeros = torch.zeros(3, 4)\n",
    "print(zeros)\n",
    "\n",
    "# Generate 3 x 4 tensor with random values on the interval [0, 1)\n",
    "random_tensor = torch.rand(3, 4)\n",
    "print(random_tensor)\n",
    "\n",
    "# Get the shape of the tensor\n",
    "print(ones.shape)"
   ]
  },
  {
   "cell_type": "markdown",
   "metadata": {},
   "source": [
    "PyTorch tensor contains elements for a single data type, the `dtype`."
   ]
  },
  {
   "cell_type": "code",
   "execution_count": 29,
   "metadata": {},
   "outputs": [
    {
     "name": "stdout",
     "output_type": "stream",
     "text": [
      "torch.float32\n",
      "torch.int64\n"
     ]
    }
   ],
   "source": [
    "# Create a 3 x 4 tensor with all 32-bit floating point zeros\n",
    "zeros = torch.zeros(3, 4, dtype=torch.float32)\n",
    "print(zeros.dtype)\n",
    "\n",
    "# Change the tensor dtype to 64-bit integer\n",
    "zeros = zeros.type(torch.long)\n",
    "print(zeros.dtype)"
   ]
  },
  {
   "cell_type": "markdown",
   "metadata": {},
   "source": [
    "## Get the edge list of the karate club network and transform it into `torch.LongTensor`."
   ]
  },
  {
   "cell_type": "code",
   "execution_count": 30,
   "metadata": {},
   "outputs": [
    {
     "name": "stdout",
     "output_type": "stream",
     "text": [
      "The pos_edge_index tensor has shape torch.Size([2, 156])\n",
      "The pos_edge_index tensor has sum value 5070\n"
     ]
    }
   ],
   "source": [
    "def graph_to_edge_list(G):\n",
    "  # TODO: Implement the function that returns the edge list of\n",
    "  # an nx.Graph. The returned edge_list should be a list of tuples\n",
    "  # where each tuple is a tuple representing an edge connected\n",
    "  # by two nodes.\n",
    "\n",
    "#   edge_list = []\n",
    "\n",
    "  ############# Your code here ############\n",
    "  edge_list = list(G.edges())\n",
    "\n",
    "  #########################################\n",
    "\n",
    "  return edge_list\n",
    "\n",
    "def edge_list_to_tensor(edge_list):\n",
    "  # TODO: Implement the function that transforms the edge_list to\n",
    "  # tensor. The input edge_list is a list of tuples and the resulting\n",
    "  # tensor should have the shape [2, len(edge_list)].\n",
    "\n",
    "  ############# Your code here ############\n",
    "  pos_edge_index = torch.LongTensor(edge_list).t()\n",
    "\n",
    "  #########################################\n",
    "\n",
    "  return edge_index\n",
    "\n",
    "pos_edge_list = graph_to_edge_list(G)\n",
    "pos_edge_index = edge_list_to_tensor(pos_edge_list)\n",
    "print(\"The pos_edge_index tensor has shape {}\".format(pos_edge_index.shape))\n",
    "print(\"The pos_edge_index tensor has sum value {}\".format(torch.sum(pos_edge_index)))"
   ]
  },
  {
   "cell_type": "markdown",
   "metadata": {},
   "source": [
    "# 3 Node Emebedding Learning\n",
    "\n",
    "Finally, we will finish the first learning algorithm on graphs: a node embedding model.\n"
   ]
  },
  {
   "cell_type": "markdown",
   "metadata": {},
   "source": [
    "## Setup"
   ]
  },
  {
   "cell_type": "code",
   "execution_count": 31,
   "metadata": {},
   "outputs": [
    {
     "name": "stdout",
     "output_type": "stream",
     "text": [
      "2.8.0+cpu\n"
     ]
    }
   ],
   "source": [
    "import torch\n",
    "import torch.nn as nn\n",
    "import matplotlib.pyplot as plt\n",
    "from sklearn.decomposition import PCA\n",
    "\n",
    "print(torch.__version__)"
   ]
  },
  {
   "cell_type": "markdown",
   "metadata": {},
   "source": [
    "To write our own node embedding learning methods, we'll heavily use the [`nn.Embedding`](https://pytorch.org/docs/stable/generated/torch.nn.Embedding.html) module in PyTorch. Let's see how to use `nn.Embedding`:"
   ]
  },
  {
   "cell_type": "code",
   "execution_count": 32,
   "metadata": {},
   "outputs": [
    {
     "name": "stdout",
     "output_type": "stream",
     "text": [
      "Sample embedding layer: Embedding(4, 8)\n"
     ]
    }
   ],
   "source": [
    "# Initialize an embedding layer\n",
    "# Suppose we want to have embedding for 4 items (e.g., nodes)\n",
    "# Each item is represented with 8 dimensional vector\n",
    "\n",
    "emb_sample = nn.Embedding(num_embeddings=4, embedding_dim=8)\n",
    "print('Sample embedding layer: {}'.format(emb_sample))"
   ]
  },
  {
   "cell_type": "markdown",
   "metadata": {},
   "source": [
    "We can select items from the embedding matrix, by using Tensor indices"
   ]
  },
  {
   "cell_type": "code",
   "execution_count": 33,
   "metadata": {},
   "outputs": [
    {
     "name": "stdout",
     "output_type": "stream",
     "text": [
      "tensor([[ 0.1795,  1.8176, -0.0501, -0.0322,  0.5628, -0.1196, -1.0758, -1.2390]],\n",
      "       grad_fn=<EmbeddingBackward0>)\n",
      "tensor([[ 0.1795,  1.8176, -0.0501, -0.0322,  0.5628, -0.1196, -1.0758, -1.2390],\n",
      "        [-0.4763,  0.4607,  1.4119, -0.7764, -1.4340,  0.6270, -1.0887,  0.5849]],\n",
      "       grad_fn=<EmbeddingBackward0>)\n",
      "torch.Size([4, 8])\n",
      "tensor([[1., 1., 1., 1., 1., 1., 1., 1.],\n",
      "        [1., 1., 1., 1., 1., 1., 1., 1.]], grad_fn=<EmbeddingBackward0>)\n"
     ]
    }
   ],
   "source": [
    "# Select an embedding in emb_sample\n",
    "id = torch.LongTensor([1])\n",
    "print(emb_sample(id))\n",
    "\n",
    "# Select multiple embeddings\n",
    "ids = torch.LongTensor([1, 3])\n",
    "print(emb_sample(ids))\n",
    "\n",
    "# Get the shape of the embedding weight matrix\n",
    "shape = emb_sample.weight.data.shape\n",
    "print(shape)\n",
    "\n",
    "# Overwrite the weight to tensor with all ones\n",
    "emb_sample.weight.data = torch.ones(shape)\n",
    "\n",
    "# Let's check if the emb is indeed initilized\n",
    "ids = torch.LongTensor([0, 3])\n",
    "print(emb_sample(ids))"
   ]
  },
  {
   "cell_type": "markdown",
   "metadata": {},
   "source": [
    "## Now, it's time to create node embedding matrix for the graph we have!\n",
    "- We want to have **16 dimensional** vector for each node in the karate club network.\n",
    "- We want to initalize the matrix under **uniform distribution**, in the range of $[0, 1)$. We suggest you using [`torch.rand`](https://pytorch.org/docs/stable/generated/torch.rand.html)."
   ]
  },
  {
   "cell_type": "code",
   "execution_count": 38,
   "metadata": {
    "scrolled": true
   },
   "outputs": [
    {
     "name": "stdout",
     "output_type": "stream",
     "text": [
      "Embedding: Embedding(34, 16)\n",
      "tensor([[2.1136e-01, 7.3349e-01, 1.4330e-01, 9.6468e-01, 2.9333e-01, 7.9514e-01,\n",
      "         5.1703e-01, 2.8010e-01, 8.3389e-01, 1.1848e-01, 2.3546e-01, 5.5993e-01,\n",
      "         8.9664e-01, 2.8577e-01, 1.9553e-01, 1.8079e-01],\n",
      "        [2.7956e-01, 3.2728e-01, 3.8354e-01, 2.1556e-01, 6.5627e-01, 5.0406e-01,\n",
      "         1.7332e-01, 2.1447e-01, 6.0588e-01, 4.9286e-01, 8.5387e-01, 4.2420e-01,\n",
      "         9.4949e-02, 1.3019e-01, 3.5324e-01, 3.8926e-01],\n",
      "        [5.5706e-01, 3.8786e-01, 6.8449e-01, 3.3371e-01, 8.6698e-01, 6.1484e-01,\n",
      "         3.4628e-01, 9.4560e-01, 6.2765e-01, 1.6021e-01, 2.2173e-01, 8.1351e-01,\n",
      "         7.2836e-01, 8.9040e-01, 4.6159e-01, 8.4971e-01],\n",
      "        [7.4859e-01, 6.5463e-01, 3.8428e-01, 9.8199e-01, 6.0118e-01, 3.7099e-01,\n",
      "         4.9289e-01, 9.9152e-01, 8.3583e-01, 4.6295e-01, 9.9018e-01, 7.1957e-01,\n",
      "         2.3379e-01, 4.4966e-02, 7.9057e-01, 9.6892e-01],\n",
      "        [2.0869e-01, 7.0536e-01, 5.2129e-01, 3.9309e-01, 3.6404e-01, 6.3910e-01,\n",
      "         6.1023e-01, 8.3770e-01, 6.8304e-01, 7.2753e-01, 9.4108e-01, 6.5569e-01,\n",
      "         5.7422e-01, 3.1797e-01, 8.6669e-01, 5.7384e-01],\n",
      "        [8.2228e-01, 9.8282e-01, 3.8817e-01, 8.5205e-01, 3.9846e-01, 9.5121e-01,\n",
      "         8.9355e-01, 3.2078e-01, 5.1793e-01, 2.8165e-01, 2.9778e-01, 3.9877e-01,\n",
      "         4.9659e-01, 3.2570e-01, 2.8001e-02, 1.9759e-01],\n",
      "        [4.5727e-01, 3.4038e-01, 8.7138e-01, 9.0643e-01, 8.1853e-01, 7.2129e-01,\n",
      "         1.0362e-01, 9.7238e-01, 5.9395e-02, 3.3562e-01, 1.4809e-01, 6.7980e-01,\n",
      "         8.3942e-02, 2.5350e-01, 1.8239e-01, 1.9266e-01],\n",
      "        [2.6659e-01, 9.9151e-01, 4.5916e-01, 6.5241e-01, 3.6580e-03, 9.4456e-01,\n",
      "         3.9112e-01, 4.1128e-02, 8.4458e-01, 3.6480e-01, 9.5407e-01, 1.6038e-01,\n",
      "         3.5784e-02, 1.2437e-01, 7.1659e-01, 4.4393e-01],\n",
      "        [3.6790e-02, 5.9271e-01, 4.6813e-01, 6.8063e-01, 2.4566e-01, 1.4306e-01,\n",
      "         8.4079e-01, 2.5940e-01, 8.5172e-01, 9.0540e-01, 1.5033e-01, 2.6948e-01,\n",
      "         5.6019e-01, 2.8567e-02, 6.5355e-01, 2.9167e-01],\n",
      "        [2.7831e-01, 1.1347e-01, 7.3391e-01, 1.8138e-01, 1.0035e-01, 3.6851e-01,\n",
      "         2.2165e-01, 1.3901e-02, 7.0151e-01, 3.0977e-01, 8.5023e-01, 8.5196e-01,\n",
      "         1.8111e-01, 2.0851e-01, 3.2252e-01, 7.9288e-01],\n",
      "        [4.8279e-01, 3.2138e-01, 8.0974e-01, 9.7417e-01, 8.6965e-01, 1.1765e-01,\n",
      "         3.9615e-01, 4.0409e-01, 9.2670e-01, 2.4140e-01, 2.1343e-01, 5.0782e-01,\n",
      "         3.8385e-01, 6.8926e-01, 5.6078e-01, 2.0147e-01],\n",
      "        [8.6357e-01, 8.1124e-01, 6.0949e-01, 4.7438e-02, 7.3496e-01, 8.3223e-01,\n",
      "         6.3920e-01, 3.0673e-01, 5.3353e-01, 3.0792e-01, 9.7073e-01, 9.8281e-01,\n",
      "         4.4173e-01, 1.6360e-01, 7.9413e-01, 7.5519e-01],\n",
      "        [7.6504e-01, 1.2377e-01, 6.6954e-01, 2.8662e-01, 6.0524e-02, 1.5086e-01,\n",
      "         7.1195e-01, 6.8719e-01, 6.1167e-02, 7.8354e-01, 8.8312e-01, 8.7956e-01,\n",
      "         7.8232e-01, 4.2151e-01, 8.3503e-01, 8.9144e-01],\n",
      "        [7.6064e-01, 1.4037e-01, 3.2550e-01, 8.9611e-01, 8.8119e-01, 8.1904e-01,\n",
      "         2.9102e-01, 4.0098e-01, 1.2750e-01, 2.1505e-01, 8.8382e-01, 8.9611e-02,\n",
      "         3.7644e-01, 6.0613e-01, 1.9999e-01, 6.1655e-01],\n",
      "        [4.1962e-01, 6.9996e-01, 1.1631e-01, 5.6900e-01, 4.4137e-02, 8.1020e-01,\n",
      "         9.8569e-01, 3.2154e-01, 5.7394e-01, 2.4239e-01, 1.8016e-01, 2.4677e-01,\n",
      "         2.6180e-01, 5.9491e-01, 4.4269e-01, 5.3506e-01],\n",
      "        [1.1683e-01, 1.8587e-01, 6.7140e-02, 1.4063e-01, 9.1871e-01, 6.8576e-01,\n",
      "         2.3151e-02, 4.1655e-01, 5.4013e-01, 7.6711e-01, 9.6373e-01, 6.2074e-01,\n",
      "         8.5222e-01, 3.2208e-01, 4.8366e-01, 1.9817e-01],\n",
      "        [6.1519e-01, 9.6153e-01, 8.1399e-01, 9.9754e-01, 2.7471e-01, 4.3744e-01,\n",
      "         6.0314e-01, 9.0199e-01, 4.0379e-02, 2.5444e-01, 5.7253e-01, 2.1100e-01,\n",
      "         6.8678e-01, 4.6591e-01, 3.7044e-01, 7.6815e-01],\n",
      "        [8.5734e-01, 9.8634e-01, 7.2642e-01, 4.8633e-01, 9.0880e-01, 8.9792e-01,\n",
      "         2.4941e-01, 7.2775e-01, 5.5859e-01, 2.8391e-01, 3.8093e-01, 3.8193e-01,\n",
      "         1.5011e-01, 3.4742e-01, 6.6825e-01, 8.6706e-01],\n",
      "        [5.3798e-01, 1.5799e-02, 7.6481e-01, 3.4871e-01, 9.4653e-01, 1.6860e-02,\n",
      "         3.8302e-01, 8.8776e-01, 7.1630e-01, 2.5055e-01, 6.7046e-02, 4.9463e-01,\n",
      "         6.9316e-01, 8.4901e-02, 8.1598e-02, 4.9371e-01],\n",
      "        [3.9746e-01, 8.2137e-01, 1.5533e-02, 4.2047e-01, 1.1254e-01, 4.2718e-01,\n",
      "         2.4454e-01, 6.5736e-01, 8.1722e-02, 1.0667e-01, 2.1625e-01, 6.2081e-02,\n",
      "         8.1563e-01, 4.2844e-01, 2.2221e-01, 8.5036e-01],\n",
      "        [3.8656e-01, 7.5860e-01, 3.4501e-01, 8.1675e-02, 6.0981e-01, 8.1135e-01,\n",
      "         1.2484e-02, 5.5205e-01, 5.9966e-01, 5.5739e-01, 4.8763e-01, 3.4458e-01,\n",
      "         1.1183e-01, 5.8155e-01, 1.6419e-01, 8.6876e-02],\n",
      "        [3.3947e-01, 1.5772e-01, 6.5325e-01, 8.5615e-01, 8.8858e-01, 1.9009e-01,\n",
      "         7.7260e-01, 8.5531e-01, 5.0561e-01, 7.1094e-01, 7.8292e-01, 8.8257e-01,\n",
      "         7.6754e-01, 7.1342e-01, 3.1023e-01, 2.2123e-01],\n",
      "        [2.6291e-01, 9.1139e-01, 3.7890e-01, 5.1788e-01, 3.3707e-02, 4.7779e-01,\n",
      "         3.5895e-01, 1.7738e-01, 8.8723e-01, 9.5194e-02, 4.2853e-01, 4.6455e-01,\n",
      "         4.7348e-02, 8.0231e-01, 3.4091e-01, 7.2462e-01],\n",
      "        [7.7906e-01, 9.4089e-01, 6.2367e-01, 8.7537e-01, 9.6177e-01, 5.9910e-01,\n",
      "         3.9812e-01, 3.6310e-01, 5.8100e-01, 6.7994e-01, 2.8309e-02, 8.7463e-01,\n",
      "         5.7885e-01, 3.4235e-02, 6.6015e-01, 8.1731e-01],\n",
      "        [6.8683e-01, 9.0814e-01, 5.1034e-01, 8.5194e-02, 4.9887e-01, 8.6343e-01,\n",
      "         2.5951e-01, 7.1327e-01, 6.1526e-01, 4.1887e-01, 5.0355e-01, 7.1273e-01,\n",
      "         1.5785e-01, 8.1569e-01, 8.3850e-01, 7.8057e-01],\n",
      "        [9.9964e-01, 4.7817e-01, 1.4693e-01, 5.2283e-01, 3.5494e-01, 6.7651e-01,\n",
      "         9.2295e-01, 2.2633e-01, 5.2094e-01, 9.8632e-01, 1.0085e-01, 4.1372e-01,\n",
      "         9.8553e-01, 8.4937e-01, 6.4512e-01, 2.8435e-01],\n",
      "        [4.5339e-01, 5.1638e-02, 2.9266e-02, 3.1533e-02, 9.8024e-01, 8.9547e-01,\n",
      "         6.9834e-01, 3.7441e-01, 9.3050e-01, 3.6793e-01, 8.4711e-01, 4.8373e-01,\n",
      "         2.6480e-01, 3.6045e-01, 3.9324e-01, 4.2332e-02],\n",
      "        [6.4952e-01, 3.4766e-01, 7.2972e-01, 8.1879e-01, 4.2051e-01, 7.4249e-01,\n",
      "         5.9990e-01, 8.3578e-01, 1.7755e-01, 4.5610e-01, 3.3339e-01, 9.3812e-01,\n",
      "         5.1204e-02, 2.1896e-01, 5.5645e-01, 9.4387e-01],\n",
      "        [8.3831e-01, 3.2121e-02, 1.4847e-01, 9.8480e-01, 5.7287e-01, 7.1747e-02,\n",
      "         3.4247e-01, 7.1859e-01, 3.9545e-01, 1.1594e-01, 1.9129e-01, 2.4098e-01,\n",
      "         4.8042e-01, 6.9595e-01, 7.4006e-01, 2.5710e-01],\n",
      "        [4.1611e-01, 1.1396e-01, 8.7812e-01, 9.9898e-01, 9.8599e-01, 7.0434e-01,\n",
      "         3.9338e-01, 4.8754e-01, 6.8039e-01, 6.6595e-02, 5.3104e-01, 9.3573e-02,\n",
      "         8.6367e-05, 4.8329e-01, 3.4082e-01, 1.8327e-01],\n",
      "        [5.8289e-01, 5.2037e-01, 5.7630e-01, 2.2016e-01, 1.0256e-02, 5.1094e-01,\n",
      "         2.9602e-01, 3.3143e-01, 8.6809e-01, 5.8166e-01, 7.2836e-01, 3.6026e-01,\n",
      "         1.0326e-01, 5.9970e-01, 1.6888e-01, 5.6195e-01],\n",
      "        [1.0979e-01, 8.7695e-01, 1.5939e-01, 9.3408e-01, 8.5320e-01, 8.7797e-01,\n",
      "         8.0002e-01, 6.1573e-01, 4.7563e-01, 4.9202e-01, 3.0114e-01, 4.0402e-02,\n",
      "         9.5574e-01, 5.2591e-01, 7.3516e-01, 5.1835e-01],\n",
      "        [6.4369e-01, 1.9193e-01, 1.1132e-01, 8.8132e-01, 6.8961e-01, 7.4688e-01,\n",
      "         3.7221e-03, 5.3380e-01, 3.3623e-02, 4.4278e-01, 4.7357e-01, 1.4824e-01,\n",
      "         4.8874e-03, 5.0329e-01, 9.4965e-01, 9.5061e-01],\n",
      "        [1.9559e-01, 4.1118e-01, 8.1878e-02, 1.0952e-01, 3.6291e-01, 9.8543e-01,\n",
      "         3.6956e-01, 5.2893e-01, 9.7038e-01, 5.8910e-01, 9.0335e-01, 8.3225e-01,\n",
      "         9.6886e-01, 5.8575e-01, 9.5659e-02, 6.9868e-02]],\n",
      "       grad_fn=<EmbeddingBackward0>)\n"
     ]
    }
   ],
   "source": [
    "# Please do not change / reset the random seed\n",
    "torch.manual_seed(1)\n",
    "\n",
    "def create_node_emb(num_node=34, embedding_dim=16):\n",
    "  # TODO: Implement this function that will create the node embedding matrix.\n",
    "  # A torch.nn.Embedding layer will be returned. You do not need to change\n",
    "  # the values of num_node and embedding_dim. The weight matrix of returned\n",
    "  # layer should be initialized under uniform distribution.\n",
    "\n",
    "\n",
    "  ############# Your code here ############\n",
    "  emb = torch.nn.Embedding(num_node, embedding_dim)\n",
    "  emb.weight.data.uniform_(0, 1)\n",
    "  #########################################\n",
    "\n",
    "  return emb\n",
    "\n",
    "emb = create_node_emb()\n",
    "ids = torch.LongTensor(range(34))\n",
    "\n",
    "# Print the embedding layer\n",
    "print(\"Embedding: {}\".format(emb))\n",
    "\n",
    "# An example that gets the embeddings for node 0 and 3\n",
    "print(emb(ids))"
   ]
  },
  {
   "cell_type": "markdown",
   "metadata": {},
   "source": [
    "## Visualize the initial node embeddings\n",
    "One good way to understand an embedding matrix, is to visualize it in a 2D space.\n",
    "Here, we have implemented an embedding visualization function for you.\n",
    "We first do PCA to reduce the dimensionality of embeddings to a 2D space.\n",
    "Then we visualize each point, colored by the community it belongs to."
   ]
  },
  {
   "cell_type": "code",
   "execution_count": 35,
   "metadata": {},
   "outputs": [
    {
     "data": {
      "image/png": "[encoded data removed]",
      "text/plain": [
       "<Figure size 600x600 with 1 Axes>"
      ]
     },
     "metadata": {},
     "output_type": "display_data"
    }
   ],
   "source": [
    "from sklearn.decomposition import PCA\n",
    " \n",
    "G = nx.karate_club_graph()\n",
    "\n",
    "\n",
    "def visualize_emb(emb):\n",
    "  X = emb.weight.data.numpy()\n",
    "  pca = PCA(n_components=2)\n",
    "  components = pca.fit_transform(X)\n",
    "  plt.figure(figsize=(6, 6))\n",
    "  club1_x = []\n",
    "  club1_y = []\n",
    "  club2_x = []\n",
    "  club2_y = []\n",
    "  for node in G.nodes(data=True):\n",
    "    if node[1]['club'] == 'Mr. Hi':\n",
    "      club1_x.append(components[node[0]][0])\n",
    "      club1_y.append(components[node[0]][1])\n",
    "    else:\n",
    "      club2_x.append(components[node[0]][0])\n",
    "      club2_y.append(components[node[0]][1])\n",
    "  plt.scatter(club1_x, club1_y, color=\"red\", label=\"Mr. Hi\")\n",
    "  plt.scatter(club2_x, club2_y, color=\"blue\", label=\"Officer\")\n",
    "  plt.legend()\n",
    "  plt.show()\n",
    "\n",
    "# Visualize the initial random embeddding\n",
    "visualize_emb(emb)"
   ]
  },
  {
   "cell_type": "markdown",
   "metadata": {},
   "source": [
    "\"Negative\" edges refer to the edges/links that do not exist in the graph. The term \"negative\" is borrowed from \"negative sampling\" in link prediction. It has nothing to do with the edge weights.\n",
    "\n",
    "For example, given an edge (src, dst), you should check that neither (src, dst) nor (dst, src) are edges in the Graph. If these hold true, then it is a negative edge."
   ]
  },
  {
   "cell_type": "code",
   "execution_count": 40,
   "metadata": {},
   "outputs": [],
   "source": [
    "from torch.optim import SGD\n",
    "import torch.nn as nn\n",
    "import random\n",
    "\n",
    "def sample_negative_edges(G, num_neg_samples):\n",
    "  # TODO: Implement the function that returns a list of negative edges.\n",
    "  # The number of sampled negative edges is num_neg_samples. You do not\n",
    "  # need to consider the corner case when the number of possible negative edges\n",
    "  # is less than num_neg_samples. It should be ok as long as your implementation\n",
    "  # works on the karate club network. In this implementation, self loops should\n",
    "  # not be considered as either a positive or negative edge. Also, notice that\n",
    "  # the karate club network is an undirected graph, if (0, 1) is a positive\n",
    "  # edge, do you think (1, 0) can be a negative one?\n",
    "\n",
    "  neg_edge_list = []\n",
    "\n",
    "  # Get the set of all nodes in the graph\n",
    "  all_nodes = set(G.nodes())\n",
    "\n",
    "      # Iterate to sample negative edges\n",
    "  while len(neg_edge_list) < num_neg_samples:\n",
    "    # Randomly select two nodes\n",
    "    src, dst = random.sample(list(all_nodes), 2)\n",
    "    # Check if the selected edge doesn't exist in the graph\n",
    "    if not G.has_edge(src, dst) and not G.has_edge(dst, src):\n",
    "      neg_edge_list.append((src, dst))\n",
    "\n",
    "  return neg_edge_list\n",
    "\n",
    "# Sample 78 negative edges\n",
    "neg_edge_list = sample_negative_edges(G, len(pos_edge_list))\n",
    "\n",
    "# Transform the negative edge list to tensor\n",
    "neg_edge_index = edge_list_to_tensor(neg_edge_list)"
   ]
  },
  {
   "cell_type": "code",
   "execution_count": 42,
   "metadata": {},
   "outputs": [
    {
     "data": {
      "text/plain": [
       "torch.Size([2, 156])"
      ]
     },
     "execution_count": 42,
     "metadata": {},
     "output_type": "execute_result"
    }
   ],
   "source": [
    "neg_edge_index.shape"
   ]
  },
  {
   "cell_type": "markdown",
   "metadata": {},
   "source": [
    "We want to optimize our embeddings for the task of classifying edges as positive or negative. Given an edge and the embeddings for each node, the dot product of the embeddings, followed by a sigmoid, should give us the likelihood of that edge being either positive (output of sigmoid > 0.5) or negative (output of sigmoid < 0.5).\n",
    "\n",
    "Note that we're using the functions you wrote in the previous questions, _as well as the variables initialized in previous cells_. If you're running into issues, make sure your answers to the previous questions are correct."
   ]
  },
  {
   "cell_type": "markdown",
   "metadata": {},
   "source": [
    "## 🎯 Overall Purpose\n",
    "\n",
    "The code learns **node embeddings** (vectors for each node) such that the **dot product** between two node embeddings approximates whether there is an **edge** (connection) between them.\n",
    "\n",
    "This is the typical setup for **link prediction using embeddings**, e.g. in GraphSAGE, DeepWalk, or Node2Vec post-training steps.\n",
    "\n",
    "---\n",
    "\n",
    "## 🧩 Function 1: `accuracy(pred, label)`\n",
    "\n",
    "### Purpose\n",
    "\n",
    "Computes **binary classification accuracy** from sigmoid outputs.\n",
    "\n",
    "### How it works\n",
    "\n",
    "```python\n",
    "pred_binary = (pred > 0.5).float()\n",
    "accu = (pred_binary == label).float().mean().item()\n",
    "accu = round(accu, 4)\n",
    "```\n",
    "\n",
    "* If the sigmoid output > 0.5 → predict class **1 (edge exists)**\n",
    "  Else → predict class **0 (no edge)**\n",
    "* Compares predictions to true labels (`label`)\n",
    "* Computes the fraction that are correct (`mean()`)\n",
    "* Rounds to 4 decimal places (e.g., `0.82956 → 0.8296`)\n",
    "\n",
    "So this gives a human-readable measure of how well the embeddings distinguish existing vs. non-existing edges.\n",
    "\n",
    "---\n",
    "\n",
    "## 🧩 Function 2: `train(emb, loss_fn, sigmoid, train_label, train_edge)`\n",
    "\n",
    "### Purpose\n",
    "\n",
    "Trains the node embedding parameters to predict whether an edge exists between two nodes.\n",
    "\n",
    "### Step-by-step:\n",
    "\n",
    "1. **Setup**\n",
    "\n",
    "   ```python\n",
    "   optimizer = SGD(emb.parameters(), lr=0.1, momentum=0.9)\n",
    "   epochs = 500\n",
    "   ```\n",
    "\n",
    "   Uses stochastic gradient descent to update embeddings.\n",
    "\n",
    "2. **Loop over epochs**\n",
    "\n",
    "   ```python\n",
    "   emb_train = emb(train_edge)\n",
    "   ```\n",
    "\n",
    "   * `train_edge` is a tensor of shape `[2, num_edges]`, listing node pairs.\n",
    "   * `emb(train_edge)` retrieves embeddings for both endpoints of each edge, e.g.\n",
    "\n",
    "     * `emb_train[0]` → embeddings of source nodes\n",
    "     * `emb_train[1]` → embeddings of target nodes\n",
    "\n",
    "3. **Dot product similarity**\n",
    "\n",
    "   ```python\n",
    "   dot_product = emb_train[0].mul(emb_train[1]).sum(dim=1)\n",
    "   ```\n",
    "\n",
    "   * The dot product measures how \"similar\" two node embeddings are.\n",
    "   * High dot product → nodes likely connected.\n",
    "\n",
    "4. **Sigmoid activation**\n",
    "\n",
    "   ```python\n",
    "   pred = sigmoid(dot_product)\n",
    "   ```\n",
    "\n",
    "   * Converts raw similarity scores into probabilities between 0 and 1.\n",
    "\n",
    "5. **Loss computation**\n",
    "\n",
    "   ```python\n",
    "   loss = loss_fn(pred, train_label)\n",
    "   ```\n",
    "\n",
    "   * Uses **binary cross-entropy loss** (`nn.BCELoss`) to penalize wrong predictions.\n",
    "   * `train_label` is `1` for positive (real) edges, `0` for negative (fake) edges.\n",
    "\n",
    "6. **Accuracy and monitoring**\n",
    "\n",
    "   ```python\n",
    "   accuracy_value = accuracy(pred, train_label)\n",
    "   print(f\"Epoch {i}: Loss: {loss.item()}, Accuracy: {accuracy_value}\")\n",
    "   ```\n",
    "\n",
    "   * Prints training progress; ideally loss ↓ and accuracy ↑ over epochs.\n",
    "\n",
    "7. **Gradient update**\n",
    "\n",
    "   ```python\n",
    "   optimizer.zero_grad()\n",
    "   loss.backward()\n",
    "   optimizer.step()\n",
    "   ```\n",
    "\n",
    "   * Standard PyTorch training loop to adjust embedding weights.\n",
    "\n",
    "---\n",
    "\n",
    "## 🧮 Before Training\n",
    "\n",
    "The setup:\n",
    "\n",
    "```python\n",
    "pos_label = torch.ones(pos_edge_index.shape[1], )\n",
    "neg_label = torch.zeros(neg_edge_index.shape[1], )\n",
    "train_label = torch.cat([pos_label, neg_label], dim=0)\n",
    "train_edge = torch.cat([pos_edge_index, neg_edge_index], dim=1)\n",
    "```\n",
    "\n",
    "* **`pos_edge_index`**: real edges (from the graph)\n",
    "* **`neg_edge_index`**: fake edges (sampled random pairs)\n",
    "* Labels:\n",
    "\n",
    "  * `1` → positive edges\n",
    "  * `0` → negative edges\n",
    "\n",
    "So the model learns to assign **high dot products to real edges** and **low dot products to fake edges**.\n",
    "\n",
    "---\n",
    "\n",
    "## 🧠 Conceptually\n",
    "\n",
    "This is a **link prediction learning loop**:\n",
    "\n",
    "* Input: node embeddings (`emb`)\n",
    "* Target: whether pairs of nodes are connected\n",
    "* Objective: tune embeddings so that\n",
    "  `sigmoid(dot(u_i, u_j)) ≈ 1` for true edges\n",
    "  and `≈ 0` for false edges.\n",
    "\n",
    "Over time, embeddings capture graph topology — nodes with similar connectivity patterns become close in embedding space.\n",
    "\n"
   ]
  },
  {
   "cell_type": "code",
   "execution_count": 36,
   "metadata": {},
   "outputs": [
    {
     "name": "stdout",
     "output_type": "stream",
     "text": [
      "torch.Size([2, 156])\n",
      "torch.Size([2, 312])\n",
      "Epoch 0: Loss: 2.014157295227051, Accuracy: 0.5\n",
      "Epoch 1: Loss: 1.9959752559661865, Accuracy: 0.5\n",
      "Epoch 2: Loss: 1.9618157148361206, Accuracy: 0.5\n",
      "Epoch 3: Loss: 1.91399085521698, Accuracy: 0.5\n",
      "Epoch 4: Loss: 1.8548568487167358, Accuracy: 0.5\n",
      "Epoch 5: Loss: 1.7867740392684937, Accuracy: 0.5\n",
      "Epoch 6: Loss: 1.7120758295059204, Accuracy: 0.5\n",
      "Epoch 7: Loss: 1.6330444812774658, Accuracy: 0.5\n",
      "Epoch 8: Loss: 1.5518826246261597, Accuracy: 0.5\n",
      "Epoch 9: Loss: 1.4706814289093018, Accuracy: 0.5\n",
      "Epoch 10: Loss: 1.3913748264312744, Accuracy: 0.5\n",
      "Epoch 11: Loss: 1.3156840801239014, Accuracy: 0.5\n",
      "Epoch 12: Loss: 1.2450512647628784, Accuracy: 0.5\n",
      "Epoch 13: Loss: 1.180573582649231, Accuracy: 0.5\n",
      "Epoch 14: Loss: 1.122951626777649, Accuracy: 0.5\n",
      "Epoch 15: Loss: 1.0724669694900513, Accuracy: 0.5\n",
      "Epoch 16: Loss: 1.029005527496338, Accuracy: 0.5\n",
      "Epoch 17: Loss: 0.9921223521232605, Accuracy: 0.5\n",
      "Epoch 18: Loss: 0.9611416459083557, Accuracy: 0.5\n",
      "Epoch 19: Loss: 0.9352623224258423, Accuracy: 0.5\n",
      "Epoch 20: Loss: 0.9136544466018677, Accuracy: 0.5\n",
      "Epoch 21: Loss: 0.8955283761024475, Accuracy: 0.5\n",
      "Epoch 22: Loss: 0.8801794648170471, Accuracy: 0.5\n",
      "Epoch 23: Loss: 0.8670068383216858, Accuracy: 0.5\n",
      "Epoch 24: Loss: 0.855516791343689, Accuracy: 0.5\n",
      "Epoch 25: Loss: 0.8453160524368286, Accuracy: 0.5\n",
      "Epoch 26: Loss: 0.8360995650291443, Accuracy: 0.5\n",
      "Epoch 27: Loss: 0.82763671875, Accuracy: 0.5\n",
      "Epoch 28: Loss: 0.8197581171989441, Accuracy: 0.5\n",
      "Epoch 29: Loss: 0.8123427629470825, Accuracy: 0.5\n",
      "Epoch 30: Loss: 0.805307924747467, Accuracy: 0.5\n",
      "Epoch 31: Loss: 0.798599362373352, Accuracy: 0.5\n",
      "Epoch 32: Loss: 0.7921844124794006, Accuracy: 0.5\n",
      "Epoch 33: Loss: 0.7860451936721802, Accuracy: 0.5\n",
      "Epoch 34: Loss: 0.7801744341850281, Accuracy: 0.5\n",
      "Epoch 35: Loss: 0.774571418762207, Accuracy: 0.5\n",
      "Epoch 36: Loss: 0.7692385911941528, Accuracy: 0.5\n",
      "Epoch 37: Loss: 0.7641798257827759, Accuracy: 0.5\n",
      "Epoch 38: Loss: 0.7593987584114075, Accuracy: 0.5\n",
      "Epoch 39: Loss: 0.7548976540565491, Accuracy: 0.5\n",
      "Epoch 40: Loss: 0.7506764531135559, Accuracy: 0.5\n",
      "Epoch 41: Loss: 0.7467327117919922, Accuracy: 0.5\n",
      "Epoch 42: Loss: 0.7430616021156311, Accuracy: 0.5\n",
      "Epoch 43: Loss: 0.7396557331085205, Accuracy: 0.5\n",
      "Epoch 44: Loss: 0.7365053296089172, Accuracy: 0.5\n",
      "Epoch 45: Loss: 0.7335990071296692, Accuracy: 0.5\n",
      "Epoch 46: Loss: 0.7309236526489258, Accuracy: 0.5\n",
      "Epoch 47: Loss: 0.7284654378890991, Accuracy: 0.5\n",
      "Epoch 48: Loss: 0.7262095808982849, Accuracy: 0.5\n",
      "Epoch 49: Loss: 0.724141001701355, Accuracy: 0.5\n",
      "Epoch 50: Loss: 0.7222446203231812, Accuracy: 0.5\n",
      "Epoch 51: Loss: 0.720505952835083, Accuracy: 0.5\n",
      "Epoch 52: Loss: 0.7189108729362488, Accuracy: 0.5\n",
      "Epoch 53: Loss: 0.7174457907676697, Accuracy: 0.5\n",
      "Epoch 54: Loss: 0.7160984873771667, Accuracy: 0.5\n",
      "Epoch 55: Loss: 0.7148571610450745, Accuracy: 0.5\n",
      "Epoch 56: Loss: 0.7137113809585571, Accuracy: 0.5\n",
      "Epoch 57: Loss: 0.7126513123512268, Accuracy: 0.5\n",
      "Epoch 58: Loss: 0.7116685509681702, Accuracy: 0.5\n",
      "Epoch 59: Loss: 0.7107552289962769, Accuracy: 0.5\n",
      "Epoch 60: Loss: 0.7099044919013977, Accuracy: 0.5\n",
      "Epoch 61: Loss: 0.7091103792190552, Accuracy: 0.5\n",
      "Epoch 62: Loss: 0.7083675861358643, Accuracy: 0.5\n",
      "Epoch 63: Loss: 0.7076714634895325, Accuracy: 0.5\n",
      "Epoch 64: Loss: 0.7070178985595703, Accuracy: 0.5\n",
      "Epoch 65: Loss: 0.7064034342765808, Accuracy: 0.5\n",
      "Epoch 66: Loss: 0.7058249711990356, Accuracy: 0.5\n",
      "Epoch 67: Loss: 0.7052798271179199, Accuracy: 0.5\n",
      "Epoch 68: Loss: 0.7047654390335083, Accuracy: 0.5\n",
      "Epoch 69: Loss: 0.704279899597168, Accuracy: 0.5\n",
      "Epoch 70: Loss: 0.7038212418556213, Accuracy: 0.5\n",
      "Epoch 71: Loss: 0.7033877372741699, Accuracy: 0.5\n",
      "Epoch 72: Loss: 0.7029778957366943, Accuracy: 0.5\n",
      "Epoch 73: Loss: 0.7025903463363647, Accuracy: 0.5\n",
      "Epoch 74: Loss: 0.7022237777709961, Accuracy: 0.5\n",
      "Epoch 75: Loss: 0.7018768787384033, Accuracy: 0.5\n",
      "Epoch 76: Loss: 0.7015487551689148, Accuracy: 0.5\n",
      "Epoch 77: Loss: 0.7012379765510559, Accuracy: 0.5\n",
      "Epoch 78: Loss: 0.7009439468383789, Accuracy: 0.5\n",
      "Epoch 79: Loss: 0.7006654143333435, Accuracy: 0.5\n",
      "Epoch 80: Loss: 0.7004016041755676, Accuracy: 0.5\n",
      "Epoch 81: Loss: 0.7001514434814453, Accuracy: 0.5\n",
      "Epoch 82: Loss: 0.6999143958091736, Accuracy: 0.5\n",
      "Epoch 83: Loss: 0.6996893882751465, Accuracy: 0.5\n",
      "Epoch 84: Loss: 0.6994758248329163, Accuracy: 0.5\n",
      "Epoch 85: Loss: 0.6992729306221008, Accuracy: 0.5\n",
      "Epoch 86: Loss: 0.6990800499916077, Accuracy: 0.5\n",
      "Epoch 87: Loss: 0.6988965272903442, Accuracy: 0.5\n",
      "Epoch 88: Loss: 0.6987217664718628, Accuracy: 0.5\n",
      "Epoch 89: Loss: 0.6985552906990051, Accuracy: 0.5\n",
      "Epoch 90: Loss: 0.6983963847160339, Accuracy: 0.5\n",
      "Epoch 91: Loss: 0.6982447504997253, Accuracy: 0.5\n",
      "Epoch 92: Loss: 0.6980997920036316, Accuracy: 0.5\n",
      "Epoch 93: Loss: 0.6979610919952393, Accuracy: 0.5\n",
      "Epoch 94: Loss: 0.6978284120559692, Accuracy: 0.5\n",
      "Epoch 95: Loss: 0.6977011561393738, Accuracy: 0.5\n",
      "Epoch 96: Loss: 0.6975792050361633, Accuracy: 0.5\n",
      "Epoch 97: Loss: 0.6974620223045349, Accuracy: 0.5\n",
      "Epoch 98: Loss: 0.6973496079444885, Accuracy: 0.5\n",
      "Epoch 99: Loss: 0.697241485118866, Accuracy: 0.5\n",
      "Epoch 100: Loss: 0.6971374750137329, Accuracy: 0.5\n",
      "Epoch 101: Loss: 0.6970373392105103, Accuracy: 0.5\n",
      "Epoch 102: Loss: 0.6969409584999084, Accuracy: 0.5\n",
      "Epoch 103: Loss: 0.6968479752540588, Accuracy: 0.5\n",
      "Epoch 104: Loss: 0.6967583298683167, Accuracy: 0.5\n",
      "Epoch 105: Loss: 0.6966719031333923, Accuracy: 0.5\n",
      "Epoch 106: Loss: 0.6965885162353516, Accuracy: 0.5\n",
      "Epoch 107: Loss: 0.6965078711509705, Accuracy: 0.5\n",
      "Epoch 108: Loss: 0.6964300870895386, Accuracy: 0.5\n",
      "Epoch 109: Loss: 0.696354866027832, Accuracy: 0.5\n",
      "Epoch 110: Loss: 0.6962822079658508, Accuracy: 0.5\n",
      "Epoch 111: Loss: 0.6962119340896606, Accuracy: 0.5\n",
      "Epoch 112: Loss: 0.6961439847946167, Accuracy: 0.5\n",
      "Epoch 113: Loss: 0.6960781812667847, Accuracy: 0.5\n",
      "Epoch 114: Loss: 0.6960145235061646, Accuracy: 0.5\n",
      "Epoch 115: Loss: 0.695952832698822, Accuracy: 0.5\n",
      "Epoch 116: Loss: 0.6958932280540466, Accuracy: 0.5\n",
      "Epoch 117: Loss: 0.6958353519439697, Accuracy: 0.5\n",
      "Epoch 118: Loss: 0.6957792639732361, Accuracy: 0.5\n",
      "Epoch 119: Loss: 0.6957249641418457, Accuracy: 0.5\n",
      "Epoch 120: Loss: 0.695672333240509, Accuracy: 0.5\n",
      "Epoch 121: Loss: 0.6956210732460022, Accuracy: 0.5\n",
      "Epoch 122: Loss: 0.6955716013908386, Accuracy: 0.5\n",
      "Epoch 123: Loss: 0.6955235004425049, Accuracy: 0.5\n",
      "Epoch 124: Loss: 0.6954766511917114, Accuracy: 0.5\n",
      "Epoch 125: Loss: 0.6954312920570374, Accuracy: 0.5\n",
      "Epoch 126: Loss: 0.6953871846199036, Accuracy: 0.5\n",
      "Epoch 127: Loss: 0.6953443884849548, Accuracy: 0.5\n",
      "Epoch 128: Loss: 0.6953027844429016, Accuracy: 0.5\n",
      "Epoch 129: Loss: 0.6952622532844543, Accuracy: 0.5\n",
      "Epoch 130: Loss: 0.695222795009613, Accuracy: 0.5\n",
      "Epoch 131: Loss: 0.6951845288276672, Accuracy: 0.5\n",
      "Epoch 132: Loss: 0.6951472163200378, Accuracy: 0.5\n",
      "Epoch 133: Loss: 0.6951109170913696, Accuracy: 0.5\n",
      "Epoch 134: Loss: 0.695075511932373, Accuracy: 0.5\n",
      "Epoch 135: Loss: 0.6950410604476929, Accuracy: 0.5\n",
      "Epoch 136: Loss: 0.6950075030326843, Accuracy: 0.5\n",
      "Epoch 137: Loss: 0.6949747800827026, Accuracy: 0.5\n",
      "Epoch 138: Loss: 0.6949428915977478, Accuracy: 0.5\n",
      "Epoch 139: Loss: 0.6949118375778198, Accuracy: 0.5\n",
      "Epoch 140: Loss: 0.6948814392089844, Accuracy: 0.5\n",
      "Epoch 141: Loss: 0.6948519945144653, Accuracy: 0.5\n",
      "Epoch 142: Loss: 0.6948230266571045, Accuracy: 0.5\n",
      "Epoch 143: Loss: 0.6947949528694153, Accuracy: 0.5\n",
      "Epoch 144: Loss: 0.694767415523529, Accuracy: 0.5\n",
      "Epoch 145: Loss: 0.6947405338287354, Accuracy: 0.5\n",
      "Epoch 146: Loss: 0.6947143077850342, Accuracy: 0.5\n",
      "Epoch 147: Loss: 0.6946886777877808, Accuracy: 0.5\n",
      "Epoch 148: Loss: 0.6946637034416199, Accuracy: 0.5\n",
      "Epoch 149: Loss: 0.694639265537262, Accuracy: 0.5\n",
      "Epoch 150: Loss: 0.694615364074707, Accuracy: 0.5\n",
      "Epoch 151: Loss: 0.6945920586585999, Accuracy: 0.5\n",
      "Epoch 152: Loss: 0.6945692300796509, Accuracy: 0.5\n",
      "Epoch 153: Loss: 0.6945468783378601, Accuracy: 0.5\n",
      "Epoch 154: Loss: 0.6945250630378723, Accuracy: 0.5\n",
      "Epoch 155: Loss: 0.694503664970398, Accuracy: 0.5\n",
      "Epoch 156: Loss: 0.6944828033447266, Accuracy: 0.5\n",
      "Epoch 157: Loss: 0.6944622993469238, Accuracy: 0.5\n",
      "Epoch 158: Loss: 0.6944423317909241, Accuracy: 0.5\n",
      "Epoch 159: Loss: 0.694422721862793, Accuracy: 0.5\n",
      "Epoch 160: Loss: 0.6944035291671753, Accuracy: 0.5\n",
      "Epoch 161: Loss: 0.6943848133087158, Accuracy: 0.5\n",
      "Epoch 162: Loss: 0.6943663358688354, Accuracy: 0.5\n",
      "Epoch 163: Loss: 0.6943483948707581, Accuracy: 0.5\n",
      "Epoch 164: Loss: 0.6943307518959045, Accuracy: 0.5\n",
      "Epoch 165: Loss: 0.6943134665489197, Accuracy: 0.5\n",
      "Epoch 166: Loss: 0.6942965388298035, Accuracy: 0.5\n",
      "Epoch 167: Loss: 0.6942799687385559, Accuracy: 0.5\n",
      "Epoch 168: Loss: 0.6942636370658875, Accuracy: 0.5\n",
      "Epoch 169: Loss: 0.6942477822303772, Accuracy: 0.5\n",
      "Epoch 170: Loss: 0.694232165813446, Accuracy: 0.5\n",
      "Epoch 171: Loss: 0.6942167282104492, Accuracy: 0.5\n",
      "Epoch 172: Loss: 0.6942018270492554, Accuracy: 0.5\n",
      "Epoch 173: Loss: 0.6941870450973511, Accuracy: 0.5\n",
      "Epoch 174: Loss: 0.6941725611686707, Accuracy: 0.5\n",
      "Epoch 175: Loss: 0.6941584348678589, Accuracy: 0.5\n",
      "Epoch 176: Loss: 0.6941445469856262, Accuracy: 0.5\n",
      "Epoch 177: Loss: 0.6941308379173279, Accuracy: 0.5\n",
      "Epoch 178: Loss: 0.6941174268722534, Accuracy: 0.5\n",
      "Epoch 179: Loss: 0.6941043734550476, Accuracy: 0.5\n",
      "Epoch 180: Loss: 0.6940913796424866, Accuracy: 0.5\n",
      "Epoch 181: Loss: 0.694078803062439, Accuracy: 0.5\n",
      "Epoch 182: Loss: 0.6940663456916809, Accuracy: 0.5\n",
      "Epoch 183: Loss: 0.694054126739502, Accuracy: 0.5\n",
      "Epoch 184: Loss: 0.6940420866012573, Accuracy: 0.5\n",
      "Epoch 185: Loss: 0.6940303444862366, Accuracy: 0.5\n",
      "Epoch 186: Loss: 0.6940188407897949, Accuracy: 0.5\n",
      "Epoch 187: Loss: 0.6940075159072876, Accuracy: 0.5\n",
      "Epoch 188: Loss: 0.6939963102340698, Accuracy: 0.5\n",
      "Epoch 189: Loss: 0.6939854025840759, Accuracy: 0.5\n",
      "Epoch 190: Loss: 0.6939747333526611, Accuracy: 0.5\n",
      "Epoch 191: Loss: 0.6939640641212463, Accuracy: 0.5\n",
      "Epoch 192: Loss: 0.6939535737037659, Accuracy: 0.5\n",
      "Epoch 193: Loss: 0.693943440914154, Accuracy: 0.5\n",
      "Epoch 194: Loss: 0.693933367729187, Accuracy: 0.5\n",
      "Epoch 195: Loss: 0.6939235329627991, Accuracy: 0.5\n",
      "Epoch 196: Loss: 0.6939138770103455, Accuracy: 0.5\n",
      "Epoch 197: Loss: 0.6939043402671814, Accuracy: 0.5\n",
      "Epoch 198: Loss: 0.6938949227333069, Accuracy: 0.5\n",
      "Epoch 199: Loss: 0.6938858032226562, Accuracy: 0.5\n",
      "Epoch 200: Loss: 0.6938766837120056, Accuracy: 0.5\n",
      "Epoch 201: Loss: 0.6938678026199341, Accuracy: 0.5\n",
      "Epoch 202: Loss: 0.6938590407371521, Accuracy: 0.5\n",
      "Epoch 203: Loss: 0.6938503980636597, Accuracy: 0.5\n",
      "Epoch 204: Loss: 0.6938419938087463, Accuracy: 0.5\n",
      "Epoch 205: Loss: 0.6938335299491882, Accuracy: 0.5\n",
      "Epoch 206: Loss: 0.6938254237174988, Accuracy: 0.5\n",
      "Epoch 207: Loss: 0.6938172578811646, Accuracy: 0.5\n",
      "Epoch 208: Loss: 0.6938093900680542, Accuracy: 0.5\n",
      "Epoch 209: Loss: 0.6938015222549438, Accuracy: 0.5\n",
      "Epoch 210: Loss: 0.693793773651123, Accuracy: 0.5\n",
      "Epoch 211: Loss: 0.6937862038612366, Accuracy: 0.5\n",
      "Epoch 212: Loss: 0.6937788128852844, Accuracy: 0.5\n",
      "Epoch 213: Loss: 0.693771481513977, Accuracy: 0.5\n",
      "Epoch 214: Loss: 0.6937642097473145, Accuracy: 0.5\n",
      "Epoch 215: Loss: 0.6937570571899414, Accuracy: 0.5\n",
      "Epoch 216: Loss: 0.6937500834465027, Accuracy: 0.5\n",
      "Epoch 217: Loss: 0.6937431693077087, Accuracy: 0.5\n",
      "Epoch 218: Loss: 0.6937364339828491, Accuracy: 0.5\n",
      "Epoch 219: Loss: 0.693729817867279, Accuracy: 0.5\n",
      "Epoch 220: Loss: 0.693723201751709, Accuracy: 0.5\n",
      "Epoch 221: Loss: 0.6937167048454285, Accuracy: 0.5\n",
      "Epoch 222: Loss: 0.6937102675437927, Accuracy: 0.5\n",
      "Epoch 223: Loss: 0.6937040090560913, Accuracy: 0.5\n",
      "Epoch 224: Loss: 0.6936978697776794, Accuracy: 0.5\n",
      "Epoch 225: Loss: 0.6936916708946228, Accuracy: 0.5\n",
      "Epoch 226: Loss: 0.6936857104301453, Accuracy: 0.5\n",
      "Epoch 227: Loss: 0.6936798095703125, Accuracy: 0.5\n",
      "Epoch 228: Loss: 0.6936739683151245, Accuracy: 0.5\n",
      "Epoch 229: Loss: 0.6936681866645813, Accuracy: 0.5\n",
      "Epoch 230: Loss: 0.6936625242233276, Accuracy: 0.5\n",
      "Epoch 231: Loss: 0.6936569809913635, Accuracy: 0.5\n",
      "Epoch 232: Loss: 0.6936514377593994, Accuracy: 0.5\n",
      "Epoch 233: Loss: 0.6936460137367249, Accuracy: 0.5\n",
      "Epoch 234: Loss: 0.6936406493186951, Accuracy: 0.5\n",
      "Epoch 235: Loss: 0.6936353445053101, Accuracy: 0.5\n",
      "Epoch 236: Loss: 0.6936302185058594, Accuracy: 0.5\n",
      "Epoch 237: Loss: 0.6936251521110535, Accuracy: 0.5\n",
      "Epoch 238: Loss: 0.6936200857162476, Accuracy: 0.5\n",
      "Epoch 239: Loss: 0.6936150789260864, Accuracy: 0.5\n",
      "Epoch 240: Loss: 0.6936101913452148, Accuracy: 0.5\n",
      "Epoch 241: Loss: 0.6936052441596985, Accuracy: 0.5\n",
      "Epoch 242: Loss: 0.6936004757881165, Accuracy: 0.5\n",
      "Epoch 243: Loss: 0.6935958862304688, Accuracy: 0.5\n",
      "Epoch 244: Loss: 0.6935911178588867, Accuracy: 0.5\n",
      "Epoch 245: Loss: 0.6935865879058838, Accuracy: 0.5\n",
      "Epoch 246: Loss: 0.6935821175575256, Accuracy: 0.5\n",
      "Epoch 247: Loss: 0.6935776472091675, Accuracy: 0.5\n",
      "Epoch 248: Loss: 0.6935732364654541, Accuracy: 0.5\n",
      "Epoch 249: Loss: 0.6935689449310303, Accuracy: 0.5\n",
      "Epoch 250: Loss: 0.6935646533966064, Accuracy: 0.5\n",
      "Epoch 251: Loss: 0.6935604810714722, Accuracy: 0.5\n",
      "Epoch 252: Loss: 0.6935562491416931, Accuracy: 0.5\n",
      "Epoch 253: Loss: 0.6935521364212036, Accuracy: 0.5\n",
      "Epoch 254: Loss: 0.6935480833053589, Accuracy: 0.5\n",
      "Epoch 255: Loss: 0.6935441493988037, Accuracy: 0.5\n",
      "Epoch 256: Loss: 0.6935401558876038, Accuracy: 0.5\n",
      "Epoch 257: Loss: 0.6935362219810486, Accuracy: 0.5\n",
      "Epoch 258: Loss: 0.6935324668884277, Accuracy: 0.5\n",
      "Epoch 259: Loss: 0.6935286521911621, Accuracy: 0.5\n",
      "Epoch 260: Loss: 0.6935248970985413, Accuracy: 0.5\n",
      "Epoch 261: Loss: 0.6935212016105652, Accuracy: 0.5\n",
      "Epoch 262: Loss: 0.6935175657272339, Accuracy: 0.5\n",
      "Epoch 263: Loss: 0.6935139894485474, Accuracy: 0.5\n",
      "Epoch 264: Loss: 0.6935104131698608, Accuracy: 0.5\n",
      "Epoch 265: Loss: 0.6935068964958191, Accuracy: 0.5\n",
      "Epoch 266: Loss: 0.6935034394264221, Accuracy: 0.5\n",
      "Epoch 267: Loss: 0.6935001015663147, Accuracy: 0.5\n",
      "Epoch 268: Loss: 0.6934966444969177, Accuracy: 0.5\n",
      "Epoch 269: Loss: 0.6934933662414551, Accuracy: 0.5\n",
      "Epoch 270: Loss: 0.6934900283813477, Accuracy: 0.5\n",
      "Epoch 271: Loss: 0.693486750125885, Accuracy: 0.5\n",
      "Epoch 272: Loss: 0.6934835314750671, Accuracy: 0.5\n",
      "Epoch 273: Loss: 0.6934804320335388, Accuracy: 0.5\n",
      "Epoch 274: Loss: 0.6934773325920105, Accuracy: 0.5\n",
      "Epoch 275: Loss: 0.6934741735458374, Accuracy: 0.5\n",
      "Epoch 276: Loss: 0.6934711337089539, Accuracy: 0.5\n",
      "Epoch 277: Loss: 0.6934681534767151, Accuracy: 0.5\n",
      "Epoch 278: Loss: 0.6934651732444763, Accuracy: 0.5\n",
      "Epoch 279: Loss: 0.6934622526168823, Accuracy: 0.5\n",
      "Epoch 280: Loss: 0.6934592723846436, Accuracy: 0.5\n",
      "Epoch 281: Loss: 0.6934564113616943, Accuracy: 0.5\n",
      "Epoch 282: Loss: 0.6934535503387451, Accuracy: 0.5\n",
      "Epoch 283: Loss: 0.6934508085250854, Accuracy: 0.5\n",
      "Epoch 284: Loss: 0.6934480667114258, Accuracy: 0.5\n",
      "Epoch 285: Loss: 0.6934453248977661, Accuracy: 0.5\n",
      "Epoch 286: Loss: 0.6934426426887512, Accuracy: 0.5\n",
      "Epoch 287: Loss: 0.6934399604797363, Accuracy: 0.5\n",
      "Epoch 288: Loss: 0.6934372186660767, Accuracy: 0.5\n",
      "Epoch 289: Loss: 0.6934346556663513, Accuracy: 0.5\n",
      "Epoch 290: Loss: 0.693432092666626, Accuracy: 0.5\n",
      "Epoch 291: Loss: 0.6934295296669006, Accuracy: 0.5\n",
      "Epoch 292: Loss: 0.6934270262718201, Accuracy: 0.5\n",
      "Epoch 293: Loss: 0.6934245228767395, Accuracy: 0.5\n",
      "Epoch 294: Loss: 0.6934220790863037, Accuracy: 0.5\n",
      "Epoch 295: Loss: 0.6934196949005127, Accuracy: 0.5\n",
      "Epoch 296: Loss: 0.6934172511100769, Accuracy: 0.5\n",
      "Epoch 297: Loss: 0.6934148073196411, Accuracy: 0.5\n",
      "Epoch 298: Loss: 0.6934125423431396, Accuracy: 0.5\n",
      "Epoch 299: Loss: 0.6934102177619934, Accuracy: 0.5\n",
      "Epoch 300: Loss: 0.6934078931808472, Accuracy: 0.5\n",
      "Epoch 301: Loss: 0.6934056282043457, Accuracy: 0.5\n",
      "Epoch 302: Loss: 0.693403422832489, Accuracy: 0.5\n",
      "Epoch 303: Loss: 0.6934012174606323, Accuracy: 0.5\n",
      "Epoch 304: Loss: 0.6933990120887756, Accuracy: 0.5\n",
      "Epoch 305: Loss: 0.6933969259262085, Accuracy: 0.5\n",
      "Epoch 306: Loss: 0.6933947205543518, Accuracy: 0.5\n",
      "Epoch 307: Loss: 0.6933925747871399, Accuracy: 0.5\n",
      "Epoch 308: Loss: 0.6933904886245728, Accuracy: 0.5\n",
      "Epoch 309: Loss: 0.6933884024620056, Accuracy: 0.5\n",
      "Epoch 310: Loss: 0.6933863759040833, Accuracy: 0.5\n",
      "Epoch 311: Loss: 0.6933842897415161, Accuracy: 0.5\n",
      "Epoch 312: Loss: 0.6933823227882385, Accuracy: 0.5\n",
      "Epoch 313: Loss: 0.6933804750442505, Accuracy: 0.5\n",
      "Epoch 314: Loss: 0.6933785080909729, Accuracy: 0.5\n",
      "Epoch 315: Loss: 0.6933764219284058, Accuracy: 0.5\n",
      "Epoch 316: Loss: 0.693374514579773, Accuracy: 0.5\n",
      "Epoch 317: Loss: 0.6933726668357849, Accuracy: 0.5\n",
      "Epoch 318: Loss: 0.6933708190917969, Accuracy: 0.5\n",
      "Epoch 319: Loss: 0.6933689713478088, Accuracy: 0.5\n",
      "Epoch 320: Loss: 0.6933671832084656, Accuracy: 0.5\n",
      "Epoch 321: Loss: 0.6933653354644775, Accuracy: 0.5\n",
      "Epoch 322: Loss: 0.6933634877204895, Accuracy: 0.5\n",
      "Epoch 323: Loss: 0.6933616995811462, Accuracy: 0.5\n",
      "Epoch 324: Loss: 0.6933600306510925, Accuracy: 0.5\n",
      "Epoch 325: Loss: 0.6933582425117493, Accuracy: 0.5\n",
      "Epoch 326: Loss: 0.6933565139770508, Accuracy: 0.5\n",
      "Epoch 327: Loss: 0.6933547854423523, Accuracy: 0.5\n",
      "Epoch 328: Loss: 0.6933531165122986, Accuracy: 0.5\n",
      "Epoch 329: Loss: 0.6933514475822449, Accuracy: 0.5\n",
      "Epoch 330: Loss: 0.6933497786521912, Accuracy: 0.5\n",
      "Epoch 331: Loss: 0.6933481693267822, Accuracy: 0.5\n",
      "Epoch 332: Loss: 0.6933465003967285, Accuracy: 0.5\n",
      "Epoch 333: Loss: 0.6933450102806091, Accuracy: 0.5\n",
      "Epoch 334: Loss: 0.693343460559845, Accuracy: 0.5\n",
      "Epoch 335: Loss: 0.6933417916297913, Accuracy: 0.5\n",
      "Epoch 336: Loss: 0.6933403015136719, Accuracy: 0.5\n",
      "Epoch 337: Loss: 0.6933387517929077, Accuracy: 0.5\n",
      "Epoch 338: Loss: 0.6933373212814331, Accuracy: 0.5\n",
      "Epoch 339: Loss: 0.6933358311653137, Accuracy: 0.5\n",
      "Epoch 340: Loss: 0.6933342814445496, Accuracy: 0.5\n",
      "Epoch 341: Loss: 0.6933327913284302, Accuracy: 0.5\n",
      "Epoch 342: Loss: 0.6933313608169556, Accuracy: 0.5\n",
      "Epoch 343: Loss: 0.693329930305481, Accuracy: 0.5\n",
      "Epoch 344: Loss: 0.6933284401893616, Accuracy: 0.5\n",
      "Epoch 345: Loss: 0.6933270692825317, Accuracy: 0.5\n",
      "Epoch 346: Loss: 0.6933256983757019, Accuracy: 0.5\n",
      "Epoch 347: Loss: 0.6933243274688721, Accuracy: 0.5\n",
      "Epoch 348: Loss: 0.6933228969573975, Accuracy: 0.5\n",
      "Epoch 349: Loss: 0.6933215856552124, Accuracy: 0.5\n",
      "Epoch 350: Loss: 0.6933202743530273, Accuracy: 0.5\n",
      "Epoch 351: Loss: 0.6933189034461975, Accuracy: 0.5\n",
      "Epoch 352: Loss: 0.6933175921440125, Accuracy: 0.5\n",
      "Epoch 353: Loss: 0.6933162212371826, Accuracy: 0.5\n",
      "Epoch 354: Loss: 0.6933150887489319, Accuracy: 0.5\n",
      "Epoch 355: Loss: 0.693313717842102, Accuracy: 0.5\n",
      "Epoch 356: Loss: 0.693312406539917, Accuracy: 0.5\n",
      "Epoch 357: Loss: 0.6933112740516663, Accuracy: 0.5\n",
      "Epoch 358: Loss: 0.6933099627494812, Accuracy: 0.5\n",
      "Epoch 359: Loss: 0.6933087110519409, Accuracy: 0.5\n",
      "Epoch 360: Loss: 0.6933074593544006, Accuracy: 0.5\n",
      "Epoch 361: Loss: 0.6933063864707947, Accuracy: 0.5\n",
      "Epoch 362: Loss: 0.6933051943778992, Accuracy: 0.5\n",
      "Epoch 363: Loss: 0.6933039426803589, Accuracy: 0.5\n",
      "Epoch 364: Loss: 0.6933027505874634, Accuracy: 0.5\n",
      "Epoch 365: Loss: 0.6933016180992126, Accuracy: 0.5\n",
      "Epoch 366: Loss: 0.6933004260063171, Accuracy: 0.5\n",
      "Epoch 367: Loss: 0.6932992935180664, Accuracy: 0.5\n",
      "Epoch 368: Loss: 0.6932982206344604, Accuracy: 0.5\n",
      "Epoch 369: Loss: 0.6932971477508545, Accuracy: 0.5\n",
      "Epoch 370: Loss: 0.6932960152626038, Accuracy: 0.5\n",
      "Epoch 371: Loss: 0.6932949423789978, Accuracy: 0.5\n",
      "Epoch 372: Loss: 0.6932938694953918, Accuracy: 0.5\n",
      "Epoch 373: Loss: 0.6932927370071411, Accuracy: 0.5\n",
      "Epoch 374: Loss: 0.6932916641235352, Accuracy: 0.5\n",
      "Epoch 375: Loss: 0.6932905912399292, Accuracy: 0.5\n",
      "Epoch 376: Loss: 0.6932896375656128, Accuracy: 0.5\n",
      "Epoch 377: Loss: 0.6932886242866516, Accuracy: 0.5\n",
      "Epoch 378: Loss: 0.6932876110076904, Accuracy: 0.5\n",
      "Epoch 379: Loss: 0.6932865381240845, Accuracy: 0.5\n",
      "Epoch 380: Loss: 0.6932855844497681, Accuracy: 0.5\n",
      "Epoch 381: Loss: 0.6932845711708069, Accuracy: 0.5\n",
      "Epoch 382: Loss: 0.6932834982872009, Accuracy: 0.5\n",
      "Epoch 383: Loss: 0.6932826638221741, Accuracy: 0.5\n",
      "Epoch 384: Loss: 0.6932815909385681, Accuracy: 0.5\n",
      "Epoch 385: Loss: 0.6932806968688965, Accuracy: 0.5\n",
      "Epoch 386: Loss: 0.6932796835899353, Accuracy: 0.5\n",
      "Epoch 387: Loss: 0.6932787895202637, Accuracy: 0.5\n",
      "Epoch 388: Loss: 0.6932777762413025, Accuracy: 0.5\n",
      "Epoch 389: Loss: 0.6932769417762756, Accuracy: 0.5\n",
      "Epoch 390: Loss: 0.693276047706604, Accuracy: 0.5\n",
      "Epoch 391: Loss: 0.6932751536369324, Accuracy: 0.5\n",
      "Epoch 392: Loss: 0.6932742595672607, Accuracy: 0.5\n",
      "Epoch 393: Loss: 0.6932733654975891, Accuracy: 0.5\n",
      "Epoch 394: Loss: 0.6932724714279175, Accuracy: 0.5\n",
      "Epoch 395: Loss: 0.6932715773582458, Accuracy: 0.5\n",
      "Epoch 396: Loss: 0.6932706832885742, Accuracy: 0.5\n",
      "Epoch 397: Loss: 0.6932698488235474, Accuracy: 0.5\n",
      "Epoch 398: Loss: 0.6932690143585205, Accuracy: 0.5\n",
      "Epoch 399: Loss: 0.6932681798934937, Accuracy: 0.5\n",
      "Epoch 400: Loss: 0.6932673454284668, Accuracy: 0.5\n",
      "Epoch 401: Loss: 0.6932665109634399, Accuracy: 0.5\n",
      "Epoch 402: Loss: 0.6932656764984131, Accuracy: 0.5\n",
      "Epoch 403: Loss: 0.693264901638031, Accuracy: 0.5\n",
      "Epoch 404: Loss: 0.6932641267776489, Accuracy: 0.5\n",
      "Epoch 405: Loss: 0.6932632327079773, Accuracy: 0.5\n",
      "Epoch 406: Loss: 0.69326251745224, Accuracy: 0.5\n",
      "Epoch 407: Loss: 0.6932616829872131, Accuracy: 0.5\n",
      "Epoch 408: Loss: 0.6932608485221863, Accuracy: 0.5\n",
      "Epoch 409: Loss: 0.6932601928710938, Accuracy: 0.5\n",
      "Epoch 410: Loss: 0.6932592988014221, Accuracy: 0.5\n",
      "Epoch 411: Loss: 0.6932586431503296, Accuracy: 0.5\n",
      "Epoch 412: Loss: 0.6932578682899475, Accuracy: 0.5\n",
      "Epoch 413: Loss: 0.6932570934295654, Accuracy: 0.5\n",
      "Epoch 414: Loss: 0.6932564377784729, Accuracy: 0.5\n",
      "Epoch 415: Loss: 0.6932557225227356, Accuracy: 0.5\n",
      "Epoch 416: Loss: 0.6932548880577087, Accuracy: 0.5\n",
      "Epoch 417: Loss: 0.6932542324066162, Accuracy: 0.5\n",
      "Epoch 418: Loss: 0.6932535171508789, Accuracy: 0.5\n",
      "Epoch 419: Loss: 0.6932527422904968, Accuracy: 0.5\n",
      "Epoch 420: Loss: 0.6932520866394043, Accuracy: 0.5\n",
      "Epoch 421: Loss: 0.693251371383667, Accuracy: 0.5\n",
      "Epoch 422: Loss: 0.6932507157325745, Accuracy: 0.5\n",
      "Epoch 423: Loss: 0.6932500600814819, Accuracy: 0.5\n",
      "Epoch 424: Loss: 0.6932493448257446, Accuracy: 0.5\n",
      "Epoch 425: Loss: 0.6932487487792969, Accuracy: 0.5\n",
      "Epoch 426: Loss: 0.6932480335235596, Accuracy: 0.5\n",
      "Epoch 427: Loss: 0.6932473182678223, Accuracy: 0.5\n",
      "Epoch 428: Loss: 0.6932467222213745, Accuracy: 0.5\n",
      "Epoch 429: Loss: 0.693246066570282, Accuracy: 0.5\n",
      "Epoch 430: Loss: 0.6932453513145447, Accuracy: 0.5\n",
      "Epoch 431: Loss: 0.6932448148727417, Accuracy: 0.5\n",
      "Epoch 432: Loss: 0.6932441592216492, Accuracy: 0.5\n",
      "Epoch 433: Loss: 0.6932435631752014, Accuracy: 0.5\n",
      "Epoch 434: Loss: 0.6932429075241089, Accuracy: 0.5\n",
      "Epoch 435: Loss: 0.6932422518730164, Accuracy: 0.5\n",
      "Epoch 436: Loss: 0.6932416558265686, Accuracy: 0.5\n",
      "Epoch 437: Loss: 0.6932410597801208, Accuracy: 0.5\n",
      "Epoch 438: Loss: 0.6932404637336731, Accuracy: 0.5\n",
      "Epoch 439: Loss: 0.6932398676872253, Accuracy: 0.5\n",
      "Epoch 440: Loss: 0.6932392716407776, Accuracy: 0.5\n",
      "Epoch 441: Loss: 0.6932386755943298, Accuracy: 0.5\n",
      "Epoch 442: Loss: 0.6932380795478821, Accuracy: 0.5\n",
      "Epoch 443: Loss: 0.6932376027107239, Accuracy: 0.5\n",
      "Epoch 444: Loss: 0.6932368874549866, Accuracy: 0.5\n",
      "Epoch 445: Loss: 0.6932363510131836, Accuracy: 0.5\n",
      "Epoch 446: Loss: 0.6932358145713806, Accuracy: 0.5\n",
      "Epoch 447: Loss: 0.6932352781295776, Accuracy: 0.5\n",
      "Epoch 448: Loss: 0.6932346820831299, Accuracy: 0.5\n",
      "Epoch 449: Loss: 0.6932341456413269, Accuracy: 0.5\n",
      "Epoch 450: Loss: 0.6932336091995239, Accuracy: 0.5\n",
      "Epoch 451: Loss: 0.693233072757721, Accuracy: 0.5\n",
      "Epoch 452: Loss: 0.693232536315918, Accuracy: 0.5\n",
      "Epoch 453: Loss: 0.693231999874115, Accuracy: 0.5\n",
      "Epoch 454: Loss: 0.693231463432312, Accuracy: 0.5\n",
      "Epoch 455: Loss: 0.693230926990509, Accuracy: 0.5\n",
      "Epoch 456: Loss: 0.693230390548706, Accuracy: 0.5\n",
      "Epoch 457: Loss: 0.6932299137115479, Accuracy: 0.5\n",
      "Epoch 458: Loss: 0.6932293772697449, Accuracy: 0.5\n",
      "Epoch 459: Loss: 0.6932289004325867, Accuracy: 0.5\n",
      "Epoch 460: Loss: 0.6932283639907837, Accuracy: 0.5\n",
      "Epoch 461: Loss: 0.6932278871536255, Accuracy: 0.5\n",
      "Epoch 462: Loss: 0.6932273507118225, Accuracy: 0.5\n",
      "Epoch 463: Loss: 0.6932269334793091, Accuracy: 0.5\n",
      "Epoch 464: Loss: 0.6932264566421509, Accuracy: 0.5\n",
      "Epoch 465: Loss: 0.6932259798049927, Accuracy: 0.5\n",
      "Epoch 466: Loss: 0.6932254433631897, Accuracy: 0.5\n",
      "Epoch 467: Loss: 0.6932249069213867, Accuracy: 0.5\n",
      "Epoch 468: Loss: 0.6932244896888733, Accuracy: 0.5\n",
      "Epoch 469: Loss: 0.6932240724563599, Accuracy: 0.5\n",
      "Epoch 470: Loss: 0.6932235956192017, Accuracy: 0.5\n",
      "Epoch 471: Loss: 0.6932231187820435, Accuracy: 0.5\n",
      "Epoch 472: Loss: 0.6932226419448853, Accuracy: 0.5\n",
      "Epoch 473: Loss: 0.693222165107727, Accuracy: 0.5\n",
      "Epoch 474: Loss: 0.6932216882705688, Accuracy: 0.5\n",
      "Epoch 475: Loss: 0.6932213306427002, Accuracy: 0.5\n",
      "Epoch 476: Loss: 0.6932207942008972, Accuracy: 0.5\n",
      "Epoch 477: Loss: 0.6932204961776733, Accuracy: 0.5\n",
      "Epoch 478: Loss: 0.6932200193405151, Accuracy: 0.5\n",
      "Epoch 479: Loss: 0.6932196021080017, Accuracy: 0.5\n",
      "Epoch 480: Loss: 0.6932191848754883, Accuracy: 0.5\n",
      "Epoch 481: Loss: 0.6932187080383301, Accuracy: 0.5\n",
      "Epoch 482: Loss: 0.6932183504104614, Accuracy: 0.5\n",
      "Epoch 483: Loss: 0.6932178139686584, Accuracy: 0.5\n",
      "Epoch 484: Loss: 0.693217396736145, Accuracy: 0.5\n",
      "Epoch 485: Loss: 0.6932169795036316, Accuracy: 0.5\n",
      "Epoch 486: Loss: 0.6932166218757629, Accuracy: 0.5\n",
      "Epoch 487: Loss: 0.6932162046432495, Accuracy: 0.5\n",
      "Epoch 488: Loss: 0.6932157874107361, Accuracy: 0.5\n",
      "Epoch 489: Loss: 0.6932153701782227, Accuracy: 0.5\n",
      "Epoch 490: Loss: 0.693215012550354, Accuracy: 0.5\n",
      "Epoch 491: Loss: 0.6932145953178406, Accuracy: 0.5\n",
      "Epoch 492: Loss: 0.6932142376899719, Accuracy: 0.5\n",
      "Epoch 493: Loss: 0.6932138204574585, Accuracy: 0.5\n",
      "Epoch 494: Loss: 0.6932134628295898, Accuracy: 0.5\n",
      "Epoch 495: Loss: 0.6932130455970764, Accuracy: 0.5\n",
      "Epoch 496: Loss: 0.693212628364563, Accuracy: 0.5\n",
      "Epoch 497: Loss: 0.6932122111320496, Accuracy: 0.5\n",
      "Epoch 498: Loss: 0.6932119131088257, Accuracy: 0.5\n",
      "Epoch 499: Loss: 0.693211555480957, Accuracy: 0.5\n"
     ]
    }
   ],
   "source": [
    "def accuracy(pred, label):\n",
    "  # TODO: Implement the accuracy function. This function takes the\n",
    "  # pred tensor (the resulting tensor after sigmoid) and the label\n",
    "  # tensor (torch.LongTensor). Predicted value greater than 0.5 will\n",
    "  # be classified as label 1. Else it will be classified as label 0.\n",
    "  # The returned accuracy should be rounded to 4 decimal places.\n",
    "  # For example, accuracy 0.82956 will be rounded to 0.8296.\n",
    "\n",
    "  ############# Your code here ############\n",
    "  pred_binary = (pred > 0.5).float()\n",
    "  # Calculate accuracy\n",
    "  accu = (pred_binary == label).float().mean().item()\n",
    "  # Round the accuracy to 4 decimal places\n",
    "  accu = round(accu, 4)\n",
    "  #########################################\n",
    "\n",
    "  return accu\n",
    "\n",
    "def train(emb, loss_fn, sigmoid, train_label, train_edge):\n",
    "  # TODO: Train the embedding layer here. You can also change epochs and\n",
    "  # learning rate. In general, you need to implement:\n",
    "  # (1) Get the embeddings of the nodes in train_edge\n",
    "  # (2) Dot product the embeddings between each node pair\n",
    "  # (3) Feed the dot product result into sigmoid\n",
    "  # (4) Feed the sigmoid output into the loss_fn\n",
    "  # (5) Print both loss and accuracy of each epoch\n",
    "  # (6) Update the embeddings using the loss and optimizer\n",
    "  # (as a sanity check, the loss should decrease during training)\n",
    "\n",
    "  epochs = 500\n",
    "  learning_rate = 0.1\n",
    "\n",
    "  optimizer = SGD(emb.parameters(), lr=learning_rate, momentum=0.9)\n",
    "\n",
    "  for i in range(epochs):\n",
    "\n",
    "    ############# Your code here ############\n",
    "    # Forward pass: Compute predicted y by passing x to the model\n",
    "    emb_train = emb(train_edge)\n",
    "    dot_product = emb_train[0].mul(emb_train[1]).sum(dim=1)\n",
    "    pred = sigmoid(dot_product)\n",
    "\n",
    "    # Compute and print loss\n",
    "    loss = loss_fn(pred, train_label)\n",
    "    accuracy_value = accuracy(pred, train_label)\n",
    "    print(f\"Epoch {i}: Loss: {loss.item()}, Accuracy: {accuracy_value}\")\n",
    "\n",
    "    # Zero gradients, perform a backward pass, and update the weights.\n",
    "    optimizer.zero_grad()\n",
    "    loss.backward()\n",
    "    optimizer.step()\n",
    "    #########################################\n",
    "\n",
    "loss_fn = nn.BCELoss()\n",
    "sigmoid = nn.Sigmoid()\n",
    "\n",
    "print(pos_edge_index.shape)\n",
    "\n",
    "# Generate the positive and negative labels\n",
    "pos_label = torch.ones(pos_edge_index.shape[1], )\n",
    "neg_label = torch.zeros(neg_edge_index.shape[1], )\n",
    "\n",
    "# Concat positive and negative labels into one tensor\n",
    "train_label = torch.cat([pos_label, neg_label], dim=0)\n",
    "\n",
    "# Concat positive and negative edges into one tensor\n",
    "# Since the network is very small, we do not split the edges into val/test sets\n",
    "train_edge = torch.cat([pos_edge_index, neg_edge_index], dim=1)\n",
    "print(train_edge.shape)\n",
    "\n",
    "train(emb, loss_fn, sigmoid, train_label, train_edge)"
   ]
  },
  {
   "cell_type": "markdown",
   "metadata": {},
   "source": [
    "## Visualize the final node embeddings\n",
    "Visualize your final embedding here!\n",
    "You can visually compare the figure with the previous embedding figure.\n",
    "After training, you should oberserve that the two classes are more evidently separated.\n",
    "This is a great sanitity check for your implementation as well."
   ]
  },
  {
   "cell_type": "code",
   "execution_count": 37,
   "metadata": {},
   "outputs": [
    {
     "data": {
      "image/png": "[encoded data removed]",
      "text/plain": [
       "<Figure size 600x600 with 1 Axes>"
      ]
     },
     "metadata": {},
     "output_type": "display_data"
    }
   ],
   "source": [
    "# Visualize the final learned embedding\n",
    "visualize_emb(emb)"
   ]
  }
 ],
 "metadata": {
  "colab": {
   "machine_shape": "hm",
   "provenance": []
  },
  "kernelspec": {
   "display_name": "Python (kaveh)",
   "language": "python",
   "name": "kaveh"
  },
  "language_info": {
   "codemirror_mode": {
    "name": "ipython",
    "version": 3
   },
   "file_extension": ".py",
   "mimetype": "text/x-python",
   "name": "python",
   "nbconvert_exporter": "python",
   "pygments_lexer": "ipython3",
   "version": "3.12.11"
  }
 },
 "nbformat": 4,
 "nbformat_minor": 4
}
